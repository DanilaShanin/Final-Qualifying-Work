{
  "cells": [
    {
      "cell_type": "code",
      "execution_count": null,
      "id": "vGJGhnh_ud-D",
      "metadata": {
        "colab": {
          "base_uri": "https://localhost:8080/"
        },
        "id": "vGJGhnh_ud-D",
        "outputId": "8c2836dd-9a06-4b8f-a785-1d4fa25b0794"
      },
      "outputs": [
        {
          "output_type": "stream",
          "name": "stdout",
          "text": [
            "Mounted at /content/drive\n"
          ]
        }
      ],
      "source": [
        "from google.colab import drive\n",
        "drive.mount('/content/drive')"
      ]
    },
    {
      "cell_type": "code",
      "execution_count": null,
      "id": "efc9f9b1",
      "metadata": {
        "id": "efc9f9b1"
      },
      "outputs": [],
      "source": [
        "import os\n",
        "import tensorflow as tf\n",
        "from tensorflow.keras.applications import resnet50\n",
        "from tensorflow.keras.preprocessing.image import ImageDataGenerator\n",
        "from tensorflow.keras.models import Sequential\n",
        "from tensorflow.keras.layers import Conv2D, MaxPooling2D, Flatten, Dense\n",
        "from tensorflow.keras.preprocessing.image import ImageDataGenerator\n",
        "from tensorflow.keras.optimizers import RMSprop\n",
        "from PIL import Image\n",
        "from tensorflow import keras\n",
        "from tensorflow.keras import layers\n",
        "from tensorflow.keras.models import Sequential\n",
        "from tensorflow.keras.callbacks import ModelCheckpoint"
      ]
    },
    {
      "cell_type": "markdown",
      "source": [],
      "metadata": {
        "id": "TFQvj824gq61"
      },
      "id": "TFQvj824gq61"
    },
    {
      "cell_type": "code",
      "execution_count": null,
      "id": "e2740bd0",
      "metadata": {
        "id": "e2740bd0"
      },
      "outputs": [],
      "source": [
        "train_dir = '/content/drive/MyDrive/data3a-4/training'\n",
        "val_dir = '/content/drive/MyDrive/data3a-4/validation'"
      ]
    },
    {
      "cell_type": "code",
      "source": [
        "train_dir = '/content/drive/MyDrive/data3a-4/datadata3a-2/training'\n",
        "val_dir = '/content/drive/MyDrive/data3a-4/datadata3a-2/validation'"
      ],
      "metadata": {
        "id": "s7HFmH0TzvoM"
      },
      "id": "s7HFmH0TzvoM",
      "execution_count": null,
      "outputs": []
    },
    {
      "cell_type": "code",
      "execution_count": null,
      "id": "e5a967ab",
      "metadata": {
        "id": "e5a967ab"
      },
      "outputs": [],
      "source": [
        "img_width, img_height = 150, 150"
      ]
    },
    {
      "cell_type": "code",
      "source": [],
      "metadata": {
        "id": "mDlSV2k89iRs"
      },
      "id": "mDlSV2k89iRs",
      "execution_count": null,
      "outputs": []
    },
    {
      "cell_type": "code",
      "execution_count": null,
      "id": "e2762740",
      "metadata": {
        "id": "e2762740"
      },
      "outputs": [],
      "source": [
        "epochs = 50\n",
        "batch_size= 64"
      ]
    },
    {
      "cell_type": "code",
      "source": [
        "# import tensorflow as tf\n",
        "# from tensorflow.keras import layers  # Импортируем слои через layers\n",
        "\n",
        "# data_augmentation = tf.keras.Sequential([\n",
        "#     layers.RandomFlip(\"horizontal\"),  # Переворот по горизонтали и вертикали\n",
        "#     layers.RandomRotation(factor=(-0.1, 0.1)),                   # Случайное вращение на угол до 20%\n",
        "#     layers.RandomZoom((-0.2, 0.2))  #, width_factor=(-0.2, 0.2))\n",
        "# ])\n",
        "\n",
        "# # Генератор данных для тренировки\n",
        "# train_datagen = tf.keras.preprocessing.image.ImageDataGenerator(\n",
        "#     rescale=1./255,\n",
        "#     rotation_range=40,\n",
        "#     width_shift_range=0.2,\n",
        "#     height_shift_range=0.2,\n",
        "#     shear_range=0.2,\n",
        "#     zoom_range=0.1,\n",
        "#     horizontal_flip=True,\n",
        "#     vertical_flip=True\n",
        "# )\n",
        "\n",
        "# # Генератор данных для проверки\n",
        "# val_datagen = tf.keras.preprocessing.image.ImageDataGenerator(rescale=1./255)"
      ],
      "metadata": {
        "id": "L9SKZiZ1JZRA"
      },
      "id": "L9SKZiZ1JZRA",
      "execution_count": null,
      "outputs": []
    },
    {
      "cell_type": "code",
      "source": [
        "import tensorflow as tf\n",
        "from tensorflow.keras import layers  # Импортируем слои через layers\n",
        "\n",
        "data_augmentation = tf.keras.Sequential([\n",
        "    layers.RandomFlip(\"horizontal\"),  # Переворот по горизонтали и вертикали\n",
        "    layers.RandomRotation(factor=(-0.1, 0.1)),                   # Случайное вращение на угол до 20%\n",
        "    layers.RandomZoom((-0.2, 0.2))  #, width_factor=(-0.2, 0.2))\n",
        "])\n",
        "\n",
        "train_datagen = ImageDataGenerator(\n",
        "    rescale=1./255,\n",
        "    rotation_range=40,\n",
        "    width_shift_range=0.3,\n",
        "    height_shift_range=0.3,\n",
        "    shear_range=0.3,\n",
        "    zoom_range=0.3,\n",
        "    horizontal_flip=True,\n",
        "    vertical_flip=True,\n",
        "    brightness_range=[0.5, 1.5],\n",
        "    fill_mode='nearest'\n",
        ")\n",
        "# Генератор данных для проверки\n",
        "val_datagen = tf.keras.preprocessing.image.ImageDataGenerator(rescale=1./255)"
      ],
      "metadata": {
        "id": "YbRw9ndr3Z1C"
      },
      "id": "YbRw9ndr3Z1C",
      "execution_count": null,
      "outputs": []
    },
    {
      "cell_type": "code",
      "execution_count": null,
      "id": "4b05c0b3",
      "metadata": {
        "colab": {
          "base_uri": "https://localhost:8080/"
        },
        "id": "4b05c0b3",
        "outputId": "f69eb4ff-0977-4e56-ea0c-54e9d864e0dd"
      },
      "outputs": [
        {
          "output_type": "stream",
          "name": "stdout",
          "text": [
            "Found 1796 images belonging to 4 classes.\n",
            "Found 299 images belonging to 4 classes.\n"
          ]
        }
      ],
      "source": [
        "\n",
        "# Создание генераторов потоков данных\n",
        "train_generator = train_datagen.flow_from_directory(\n",
        "    train_dir,\n",
        "    target_size=(img_width, img_height),\n",
        "    batch_size=batch_size,\n",
        "    class_mode='categorical'\n",
        ")\n",
        "\n",
        "val_generator = val_datagen.flow_from_directory(\n",
        "    val_dir,\n",
        "    target_size=(img_width, img_height),\n",
        "    batch_size=batch_size,\n",
        "    class_mode='categorical'\n",
        ")\n"
      ]
    },
    {
      "cell_type": "code",
      "source": [
        "!pip install tensorflow-addons"
      ],
      "metadata": {
        "colab": {
          "base_uri": "https://localhost:8080/"
        },
        "id": "StMUMNGNJW2r",
        "outputId": "8bdb21e3-fc50-437e-ff16-9facee528f69"
      },
      "id": "StMUMNGNJW2r",
      "execution_count": null,
      "outputs": [
        {
          "output_type": "stream",
          "name": "stdout",
          "text": [
            "Collecting tensorflow-addons\n",
            "  Downloading tensorflow_addons-0.23.0-cp311-cp311-manylinux_2_17_x86_64.manylinux2014_x86_64.whl.metadata (1.8 kB)\n",
            "Requirement already satisfied: packaging in /usr/local/lib/python3.11/dist-packages (from tensorflow-addons) (24.2)\n",
            "Collecting typeguard<3.0.0,>=2.7 (from tensorflow-addons)\n",
            "  Downloading typeguard-2.13.3-py3-none-any.whl.metadata (3.6 kB)\n",
            "Downloading tensorflow_addons-0.23.0-cp311-cp311-manylinux_2_17_x86_64.manylinux2014_x86_64.whl (611 kB)\n",
            "\u001b[2K   \u001b[90m━━━━━━━━━━━━━━━━━━━━━━━━━━━━━━━━━━━━━━━━\u001b[0m \u001b[32m611.8/611.8 kB\u001b[0m \u001b[31m30.8 MB/s\u001b[0m eta \u001b[36m0:00:00\u001b[0m\n",
            "\u001b[?25hDownloading typeguard-2.13.3-py3-none-any.whl (17 kB)\n",
            "Installing collected packages: typeguard, tensorflow-addons\n",
            "  Attempting uninstall: typeguard\n",
            "    Found existing installation: typeguard 4.4.2\n",
            "    Uninstalling typeguard-4.4.2:\n",
            "      Successfully uninstalled typeguard-4.4.2\n",
            "\u001b[31mERROR: pip's dependency resolver does not currently take into account all the packages that are installed. This behaviour is the source of the following dependency conflicts.\n",
            "inflect 7.5.0 requires typeguard>=4.0.1, but you have typeguard 2.13.3 which is incompatible.\u001b[0m\u001b[31m\n",
            "\u001b[0mSuccessfully installed tensorflow-addons-0.23.0 typeguard-2.13.3\n"
          ]
        }
      ]
    },
    {
      "cell_type": "code",
      "execution_count": null,
      "id": "3jWywL8Nw5B0",
      "metadata": {
        "colab": {
          "base_uri": "https://localhost:8080/"
        },
        "id": "3jWywL8Nw5B0",
        "outputId": "7ae2ad33-fa9c-44c0-92e1-77a1e9d6f39b"
      },
      "outputs": [
        {
          "output_type": "stream",
          "name": "stderr",
          "text": [
            "/usr/local/lib/python3.11/dist-packages/keras/src/layers/convolutional/base_conv.py:107: UserWarning: Do not pass an `input_shape`/`input_dim` argument to a layer. When using Sequential models, prefer using an `Input(shape)` object as the first layer in the model instead.\n",
            "  super().__init__(activity_regularizer=activity_regularizer, **kwargs)\n"
          ]
        }
      ],
      "source": [
        "tf.keras.backend.clear_session()\n",
        "model=tf.keras.models.Sequential([\n",
        "    tf.keras.layers.Conv2D(16, (3,3), activation = 'relu', input_shape=(150,150,3)),\n",
        "    tf.keras.layers.MaxPooling2D((2,2)),\n",
        "    tf.keras.layers.Conv2D(32, (3,3), activation = 'relu'),\n",
        "    tf.keras.layers.MaxPooling2D((2,2)),\n",
        "    tf.keras.layers.Conv2D(64, (3,3), activation = 'relu'),\n",
        "    tf.keras.layers.MaxPooling2D((2,2)),\n",
        "    tf.keras.layers.Conv2D(256, (3,3), activation = 'relu'),\n",
        "    tf.keras.layers.MaxPooling2D((2,2)),\n",
        "    tf.keras.layers.Flatten(),\n",
        "    tf.keras.layers.Dense(256, activation='relu'),\n",
        "    tf.keras.layers.Dropout(0.2),\n",
        "    tf.keras.layers.Dense(64, activation='relu'),\n",
        "    tf.keras.layers.Dropout(0.2),\n",
        "    tf.keras.layers.Dense(16, activation='relu'),\n",
        "    tf.keras.layers.Dropout(0.2),\n",
        "    tf.keras.layers.Dense(4, activation='sigmoid')\n",
        "    ])\n",
        "\n",
        "\n",
        "model.compile(optimizer=tf.keras.optimizers.Adam(learning_rate=0.001), loss='categorical_crossentropy',\n",
        "              metrics=['accuracy'])\n",
        "from tensorflow.keras.callbacks import ModelCheckpoint\n"
      ]
    },
    {
      "cell_type": "code",
      "source": [],
      "metadata": {
        "colab": {
          "base_uri": "https://localhost:8080/",
          "height": 207
        },
        "id": "tVj1Lj2WIrE2",
        "outputId": "07d36a26-e22a-4b6f-e8e5-46b5b270bc6c"
      },
      "id": "tVj1Lj2WIrE2",
      "execution_count": null,
      "outputs": [
        {
          "output_type": "error",
          "ename": "AttributeError",
          "evalue": "module 'keras.api.optimizers.schedules' has no attribute 'CyclicLR'",
          "traceback": [
            "\u001b[0;31m---------------------------------------------------------------------------\u001b[0m",
            "\u001b[0;31mAttributeError\u001b[0m                            Traceback (most recent call last)",
            "\u001b[0;32m<ipython-input-14-ab31a605abc6>\u001b[0m in \u001b[0;36m<cell line: 0>\u001b[0;34m()\u001b[0m\n\u001b[1;32m      1\u001b[0m optimizer = tf.keras.optimizers.Adam(\n\u001b[0;32m----> 2\u001b[0;31m     learning_rate=tf.keras.optimizers.schedules.CyclicLR(\n\u001b[0m\u001b[1;32m      3\u001b[0m         \u001b[0mbase_lr\u001b[0m\u001b[0;34m=\u001b[0m\u001b[0;36m1e-5\u001b[0m\u001b[0;34m,\u001b[0m\u001b[0;34m\u001b[0m\u001b[0;34m\u001b[0m\u001b[0m\n\u001b[1;32m      4\u001b[0m         \u001b[0mmax_lr\u001b[0m\u001b[0;34m=\u001b[0m\u001b[0;36m1e-3\u001b[0m\u001b[0;34m,\u001b[0m\u001b[0;34m\u001b[0m\u001b[0;34m\u001b[0m\u001b[0m\n\u001b[1;32m      5\u001b[0m         \u001b[0mstep_size\u001b[0m\u001b[0;34m=\u001b[0m\u001b[0;36m2000\u001b[0m  \u001b[0;31m# Половина шагов на эпоху\u001b[0m\u001b[0;34m\u001b[0m\u001b[0;34m\u001b[0m\u001b[0m\n",
            "\u001b[0;31mAttributeError\u001b[0m: module 'keras.api.optimizers.schedules' has no attribute 'CyclicLR'"
          ]
        }
      ]
    },
    {
      "cell_type": "code",
      "source": [
        "from tensorflow.keras.callbacks import ModelCheckpoint, EarlyStopping, ReduceLROnPlateau\n",
        "import time\n",
        "\n",
        "# Коллбэк для сохранения лучшей модели\n",
        "checkpoint_path = '/content/drive/MyDrive/best_model_new4NewNewnew.h5'\n",
        "checkpoint_callback = ModelCheckpoint(\n",
        "    filepath=checkpoint_path,\n",
        "    monitor='val_accuracy',\n",
        "    save_best_only=True,\n",
        "    mode='max'\n",
        ")\n",
        "\n",
        "class TimeCallback(tf.keras.callbacks.Callback):\n",
        "    def on_train_begin(self, logs=None):\n",
        "        self.start_time = time.time()\n",
        "\n",
        "    def on_train_end(self, logs=None):\n",
        "        total_time = time.time() - self.start_time\n",
        "        print(f\"\\nОбщее время обучения: {total_time//3600:.0f} ч. {(total_time%3600)//60:.0f} мин. {total_time%60:.2f} сек.\")\n",
        "\n",
        "time_callback = TimeCallback()\n",
        "\n",
        "# Обучение модели\n",
        "history = model.fit(\n",
        "    train_generator,\n",
        "    epochs=100,\n",
        "    validation_data=val_generator,\n",
        "    callbacks=[checkpoint_callback, time_callback]  # Добавить все коллбэки\n",
        ")"
      ],
      "metadata": {
        "id": "JqkHthNUyAtV"
      },
      "id": "JqkHthNUyAtV",
      "execution_count": null,
      "outputs": []
    },
    {
      "cell_type": "markdown",
      "source": [
        "new"
      ],
      "metadata": {
        "id": "HMGHBK_9to3J"
      },
      "id": "HMGHBK_9to3J"
    },
    {
      "cell_type": "code",
      "source": [
        "import tensorflow as tf\n",
        "from tensorflow.keras import regularizers\n",
        "\n",
        "tf.keras.backend.clear_session()\n",
        "\n",
        "base_model = tf.keras.applications.EfficientNetB4(\n",
        "    include_top=False,\n",
        "    weights='imagenet',\n",
        "    input_shape=(150, 150, 3)\n",
        ")\n",
        "base_model.trainable = False  # Заморозьте базовые слои\n",
        "\n",
        "\n",
        "model = tf.keras.models.Sequential([\n",
        "    # Первый сверточный блок\n",
        "    tf.keras.layers.Conv2D(32, (3,3), padding='same', input_shape=(150,150,3)),\n",
        "    tf.keras.layers.BatchNormalization(),\n",
        "    tf.keras.layers.Activation('relu'),\n",
        "    tf.keras.layers.MaxPooling2D((2,2)),\n",
        "\n",
        "    # Второй сверточный блок\n",
        "    tf.keras.layers.Conv2D(64, (3,3), padding='same'),\n",
        "    tf.keras.layers.BatchNormalization(),\n",
        "    tf.keras.layers.Activation('relu'),\n",
        "    tf.keras.layers.MaxPooling2D((2,2)),\n",
        "\n",
        "    # Третий сверточный блок\n",
        "    tf.keras.layers.Conv2D(128, (3,3), padding='same'),\n",
        "    tf.keras.layers.BatchNormalization(),\n",
        "    tf.keras.layers.Activation('relu'),\n",
        "    tf.keras.layers.MaxPooling2D((2,2)),\n",
        "\n",
        "    # Четвертый сверточный блок\n",
        "    tf.keras.layers.Conv2D(256, (3,3), padding='same'),\n",
        "    tf.keras.layers.BatchNormalization(),\n",
        "    tf.keras.layers.Activation('relu'),\n",
        "    tf.keras.layers.GlobalAveragePooling2D(),\n",
        "\n",
        "    # Полносвязные слои с регуляризацией\n",
        "    tf.keras.layers.Dense(512, activation='relu', kernel_regularizer=regularizers.l2(0.001)),\n",
        "    tf.keras.layers.Dropout(0.5),\n",
        "    tf.keras.layers.Dense(4, activation='softmax')\n",
        "])\n",
        "\n",
        "# Улучшенный оптимизатор с learning rate decay\n",
        "optimizer = tf.keras.optimizers.Adam(learning_rate=0.001)\n",
        "model.compile(optimizer=optimizer,\n",
        "              loss='categorical_crossentropy',\n",
        "              metrics=['accuracy'])\n",
        "\n",
        "# Колбеки для улучшения обучения\n",
        "callbacks = [\n",
        "    tf.keras.callbacks.EarlyStopping(\n",
        "        monitor='val_loss',\n",
        "        patience=10,\n",
        "        restore_best_weights=True\n",
        "    ),\n",
        "    tf.keras.callbacks.ReduceLROnPlateau(\n",
        "        monitor='val_loss',\n",
        "        factor=0.2,\n",
        "        patience=5,\n",
        "        min_lr=1e-7\n",
        "    ),\n",
        "    tf.keras.callbacks.ModelCheckpoint(\n",
        "        'best_model.h5',\n",
        "        save_best_only=True,\n",
        "        monitor='val_accuracy'\n",
        "    )\n",
        "]"
      ],
      "metadata": {
        "colab": {
          "base_uri": "https://localhost:8080/"
        },
        "id": "5yo3xDDAtfc6",
        "outputId": "ae0456b3-10a3-4291-86ad-f832590ed9ad"
      },
      "id": "5yo3xDDAtfc6",
      "execution_count": null,
      "outputs": [
        {
          "output_type": "stream",
          "name": "stdout",
          "text": [
            "Downloading data from https://storage.googleapis.com/keras-applications/efficientnetb4_notop.h5\n",
            "\u001b[1m71686520/71686520\u001b[0m \u001b[32m━━━━━━━━━━━━━━━━━━━━\u001b[0m\u001b[37m\u001b[0m \u001b[1m4s\u001b[0m 0us/step\n"
          ]
        },
        {
          "output_type": "stream",
          "name": "stderr",
          "text": [
            "/usr/local/lib/python3.11/dist-packages/keras/src/layers/convolutional/base_conv.py:107: UserWarning: Do not pass an `input_shape`/`input_dim` argument to a layer. When using Sequential models, prefer using an `Input(shape)` object as the first layer in the model instead.\n",
            "  super().__init__(activity_regularizer=activity_regularizer, **kwargs)\n"
          ]
        }
      ]
    },
    {
      "cell_type": "code",
      "source": [
        "import time"
      ],
      "metadata": {
        "id": "M0pl6U1of8R6"
      },
      "id": "M0pl6U1of8R6",
      "execution_count": null,
      "outputs": []
    },
    {
      "cell_type": "code",
      "source": [
        "from tensorflow.keras.callbacks import ModelCheckpoint, EarlyStopping, ReduceLROnPlateau\n",
        "import time\n",
        "\n",
        "# Коллбэк для сохранения лучшей модели\n",
        "checkpoint_path = '/content/drive/MyDrive/best_model_eeeeenew4NewNewnewweeeeeeeee.h5'\n",
        "checkpoint_callback = ModelCheckpoint(\n",
        "    filepath=checkpoint_path,\n",
        "    monitor='val_accuracy',\n",
        "    save_best_only=True,\n",
        "    mode='max'\n",
        ")\n",
        "\n",
        "class TimeCallback(tf.keras.callbacks.Callback):\n",
        "    def on_train_begin(self, logs=None):\n",
        "        self.start_time = time.time()\n",
        "\n",
        "    def on_train_end(self, logs=None):\n",
        "        total_time = time.time() - self.start_time\n",
        "        print(f\"\\nОбщее время обучения: {total_time//3600:.0f} ч. {(total_time%3600)//60:.0f} мин. {total_time%60:.2f} сек.\")\n",
        "\n",
        "time_callback = TimeCallback()\n",
        "\n",
        "# Обучение модели\n",
        "history = model.fit(\n",
        "    train_generator,\n",
        "    epochs=250,\n",
        "    validation_data=val_generator,\n",
        "    callbacks=[checkpoint_callback, time_callback]  # Добавить все коллбэки\n",
        ")\n",
        "# После начального обучения разморозьте часть слоев\n",
        "base_model.trainable = True\n",
        "for layer in base_model.layers[:100]:\n",
        "    layer.trainable = False"
      ],
      "metadata": {
        "colab": {
          "base_uri": "https://localhost:8080/"
        },
        "id": "PhkQZW8bu4MH",
        "outputId": "12a31203-14a8-41e7-e74f-d2091d5713fd"
      },
      "id": "PhkQZW8bu4MH",
      "execution_count": null,
      "outputs": [
        {
          "output_type": "stream",
          "name": "stderr",
          "text": [
            "/usr/local/lib/python3.11/dist-packages/keras/src/trainers/data_adapters/py_dataset_adapter.py:121: UserWarning: Your `PyDataset` class should call `super().__init__(**kwargs)` in its constructor. `**kwargs` can include `workers`, `use_multiprocessing`, `max_queue_size`. Do not pass these arguments to `fit()`, as they will be ignored.\n",
            "  self._warn_if_super_not_called()\n"
          ]
        },
        {
          "output_type": "stream",
          "name": "stdout",
          "text": [
            "Epoch 1/250\n",
            "\u001b[1m29/29\u001b[0m \u001b[32m━━━━━━━━━━━━━━━━━━━━\u001b[0m\u001b[37m\u001b[0m \u001b[1m0s\u001b[0m 42s/step - accuracy: 0.3604 - loss: 1.6930 "
          ]
        },
        {
          "output_type": "stream",
          "name": "stderr",
          "text": [
            "WARNING:absl:You are saving your model as an HDF5 file via `model.save()` or `keras.saving.save_model(model)`. This file format is considered legacy. We recommend using instead the native Keras format, e.g. `model.save('my_model.keras')` or `keras.saving.save_model(model, 'my_model.keras')`. \n"
          ]
        },
        {
          "output_type": "stream",
          "name": "stdout",
          "text": [
            "\b\b\b\b\b\b\b\b\b\b\b\b\b\b\b\b\b\b\b\b\b\b\b\b\b\b\b\b\b\b\b\b\b\b\b\b\b\b\b\b\b\b\b\b\b\b\b\b\b\b\b\b\b\b\b\b\b\b\b\b\b\b\b\b\b\b\b\b\b\b\b\b\r\u001b[1m29/29\u001b[0m \u001b[32m━━━━━━━━━━━━━━━━━━━━\u001b[0m\u001b[37m\u001b[0m \u001b[1m1455s\u001b[0m 50s/step - accuracy: 0.3624 - loss: 1.6893 - val_accuracy: 0.2475 - val_loss: 1.8288\n",
            "Epoch 2/250\n",
            "\u001b[1m29/29\u001b[0m \u001b[32m━━━━━━━━━━━━━━━━━━━━\u001b[0m\u001b[37m\u001b[0m \u001b[1m31s\u001b[0m 714ms/step - accuracy: 0.4705 - loss: 1.4561 - val_accuracy: 0.2475 - val_loss: 2.6013\n",
            "Epoch 3/250\n",
            "\u001b[1m29/29\u001b[0m \u001b[32m━━━━━━━━━━━━━━━━━━━━\u001b[0m\u001b[37m\u001b[0m \u001b[1m0s\u001b[0m 630ms/step - accuracy: 0.4576 - loss: 1.4097"
          ]
        },
        {
          "output_type": "stream",
          "name": "stderr",
          "text": [
            "WARNING:absl:You are saving your model as an HDF5 file via `model.save()` or `keras.saving.save_model(model)`. This file format is considered legacy. We recommend using instead the native Keras format, e.g. `model.save('my_model.keras')` or `keras.saving.save_model(model, 'my_model.keras')`. \n"
          ]
        },
        {
          "output_type": "stream",
          "name": "stdout",
          "text": [
            "\b\b\b\b\b\b\b\b\b\b\b\b\b\b\b\b\b\b\b\b\b\b\b\b\b\b\b\b\b\b\b\b\b\b\b\b\b\b\b\b\b\b\b\b\b\b\b\b\b\b\b\b\b\b\b\b\b\b\b\b\b\b\b\b\b\b\b\b\b\b\b\b\b\b\r\u001b[1m29/29\u001b[0m \u001b[32m━━━━━━━━━━━━━━━━━━━━\u001b[0m\u001b[37m\u001b[0m \u001b[1m20s\u001b[0m 693ms/step - accuracy: 0.4585 - loss: 1.4088 - val_accuracy: 0.2542 - val_loss: 2.4996\n",
            "Epoch 4/250\n",
            "\u001b[1m29/29\u001b[0m \u001b[32m━━━━━━━━━━━━━━━━━━━━\u001b[0m\u001b[37m\u001b[0m \u001b[1m20s\u001b[0m 699ms/step - accuracy: 0.5177 - loss: 1.3230 - val_accuracy: 0.2475 - val_loss: 2.8549\n",
            "Epoch 5/250\n",
            "\u001b[1m29/29\u001b[0m \u001b[32m━━━━━━━━━━━━━━━━━━━━\u001b[0m\u001b[37m\u001b[0m \u001b[1m0s\u001b[0m 632ms/step - accuracy: 0.5189 - loss: 1.3022"
          ]
        },
        {
          "output_type": "stream",
          "name": "stderr",
          "text": [
            "WARNING:absl:You are saving your model as an HDF5 file via `model.save()` or `keras.saving.save_model(model)`. This file format is considered legacy. We recommend using instead the native Keras format, e.g. `model.save('my_model.keras')` or `keras.saving.save_model(model, 'my_model.keras')`. \n"
          ]
        },
        {
          "output_type": "stream",
          "name": "stdout",
          "text": [
            "\b\b\b\b\b\b\b\b\b\b\b\b\b\b\b\b\b\b\b\b\b\b\b\b\b\b\b\b\b\b\b\b\b\b\b\b\b\b\b\b\b\b\b\b\b\b\b\b\b\b\b\b\b\b\b\b\b\b\b\b\b\b\b\b\b\b\b\b\b\b\b\b\b\b\r\u001b[1m29/29\u001b[0m \u001b[32m━━━━━━━━━━━━━━━━━━━━\u001b[0m\u001b[37m\u001b[0m \u001b[1m20s\u001b[0m 693ms/step - accuracy: 0.5186 - loss: 1.3028 - val_accuracy: 0.2910 - val_loss: 2.4897\n",
            "Epoch 6/250\n",
            "\u001b[1m29/29\u001b[0m \u001b[32m━━━━━━━━━━━━━━━━━━━━\u001b[0m\u001b[37m\u001b[0m \u001b[1m20s\u001b[0m 704ms/step - accuracy: 0.5349 - loss: 1.2753 - val_accuracy: 0.2876 - val_loss: 2.4496\n",
            "Epoch 7/250\n",
            "\u001b[1m29/29\u001b[0m \u001b[32m━━━━━━━━━━━━━━━━━━━━\u001b[0m\u001b[37m\u001b[0m \u001b[1m0s\u001b[0m 621ms/step - accuracy: 0.5306 - loss: 1.2434"
          ]
        },
        {
          "output_type": "stream",
          "name": "stderr",
          "text": [
            "WARNING:absl:You are saving your model as an HDF5 file via `model.save()` or `keras.saving.save_model(model)`. This file format is considered legacy. We recommend using instead the native Keras format, e.g. `model.save('my_model.keras')` or `keras.saving.save_model(model, 'my_model.keras')`. \n"
          ]
        },
        {
          "output_type": "stream",
          "name": "stdout",
          "text": [
            "\b\b\b\b\b\b\b\b\b\b\b\b\b\b\b\b\b\b\b\b\b\b\b\b\b\b\b\b\b\b\b\b\b\b\b\b\b\b\b\b\b\b\b\b\b\b\b\b\b\b\b\b\b\b\b\b\b\b\b\b\b\b\b\b\b\b\b\b\b\b\b\b\b\b\r\u001b[1m29/29\u001b[0m \u001b[32m━━━━━━━━━━━━━━━━━━━━\u001b[0m\u001b[37m\u001b[0m \u001b[1m20s\u001b[0m 687ms/step - accuracy: 0.5302 - loss: 1.2441 - val_accuracy: 0.3010 - val_loss: 2.0787\n",
            "Epoch 8/250\n",
            "\u001b[1m29/29\u001b[0m \u001b[32m━━━━━━━━━━━━━━━━━━━━\u001b[0m\u001b[37m\u001b[0m \u001b[1m20s\u001b[0m 679ms/step - accuracy: 0.5163 - loss: 1.2458 - val_accuracy: 0.2977 - val_loss: 2.1803\n",
            "Epoch 9/250\n",
            "\u001b[1m29/29\u001b[0m \u001b[32m━━━━━━━━━━━━━━━━━━━━\u001b[0m\u001b[37m\u001b[0m \u001b[1m19s\u001b[0m 658ms/step - accuracy: 0.5152 - loss: 1.2578 - val_accuracy: 0.2776 - val_loss: 2.1948\n",
            "Epoch 10/250\n",
            "\u001b[1m29/29\u001b[0m \u001b[32m━━━━━━━━━━━━━━━━━━━━\u001b[0m\u001b[37m\u001b[0m \u001b[1m21s\u001b[0m 681ms/step - accuracy: 0.5453 - loss: 1.2035 - val_accuracy: 0.2642 - val_loss: 2.2511\n",
            "Epoch 11/250\n",
            "\u001b[1m29/29\u001b[0m \u001b[32m━━━━━━━━━━━━━━━━━━━━\u001b[0m\u001b[37m\u001b[0m \u001b[1m20s\u001b[0m 659ms/step - accuracy: 0.5251 - loss: 1.1978 - val_accuracy: 0.2475 - val_loss: 3.0301\n",
            "Epoch 12/250\n",
            "\u001b[1m29/29\u001b[0m \u001b[32m━━━━━━━━━━━━━━━━━━━━\u001b[0m\u001b[37m\u001b[0m \u001b[1m20s\u001b[0m 714ms/step - accuracy: 0.5352 - loss: 1.2201 - val_accuracy: 0.2441 - val_loss: 2.0383\n",
            "Epoch 13/250\n",
            "\u001b[1m29/29\u001b[0m \u001b[32m━━━━━━━━━━━━━━━━━━━━\u001b[0m\u001b[37m\u001b[0m \u001b[1m0s\u001b[0m 620ms/step - accuracy: 0.5391 - loss: 1.1651"
          ]
        },
        {
          "output_type": "stream",
          "name": "stderr",
          "text": [
            "WARNING:absl:You are saving your model as an HDF5 file via `model.save()` or `keras.saving.save_model(model)`. This file format is considered legacy. We recommend using instead the native Keras format, e.g. `model.save('my_model.keras')` or `keras.saving.save_model(model, 'my_model.keras')`. \n"
          ]
        },
        {
          "output_type": "stream",
          "name": "stdout",
          "text": [
            "\b\b\b\b\b\b\b\b\b\b\b\b\b\b\b\b\b\b\b\b\b\b\b\b\b\b\b\b\b\b\b\b\b\b\b\b\b\b\b\b\b\b\b\b\b\b\b\b\b\b\b\b\b\b\b\b\b\b\b\b\b\b\b\b\b\b\b\b\b\b\b\b\b\b\r\u001b[1m29/29\u001b[0m \u001b[32m━━━━━━━━━━━━━━━━━━━━\u001b[0m\u001b[37m\u001b[0m \u001b[1m20s\u001b[0m 684ms/step - accuracy: 0.5389 - loss: 1.1652 - val_accuracy: 0.3344 - val_loss: 1.8164\n",
            "Epoch 14/250\n",
            "\u001b[1m29/29\u001b[0m \u001b[32m━━━━━━━━━━━━━━━━━━━━\u001b[0m\u001b[37m\u001b[0m \u001b[1m19s\u001b[0m 692ms/step - accuracy: 0.5524 - loss: 1.1669 - val_accuracy: 0.3077 - val_loss: 1.7083\n",
            "Epoch 15/250\n",
            "\u001b[1m29/29\u001b[0m \u001b[32m━━━━━━━━━━━━━━━━━━━━\u001b[0m\u001b[37m\u001b[0m \u001b[1m20s\u001b[0m 662ms/step - accuracy: 0.5572 - loss: 1.1139 - val_accuracy: 0.3043 - val_loss: 1.7263\n",
            "Epoch 16/250\n",
            "\u001b[1m29/29\u001b[0m \u001b[32m━━━━━━━━━━━━━━━━━━━━\u001b[0m\u001b[37m\u001b[0m \u001b[1m0s\u001b[0m 634ms/step - accuracy: 0.5594 - loss: 1.1306"
          ]
        },
        {
          "output_type": "stream",
          "name": "stderr",
          "text": [
            "WARNING:absl:You are saving your model as an HDF5 file via `model.save()` or `keras.saving.save_model(model)`. This file format is considered legacy. We recommend using instead the native Keras format, e.g. `model.save('my_model.keras')` or `keras.saving.save_model(model, 'my_model.keras')`. \n"
          ]
        },
        {
          "output_type": "stream",
          "name": "stdout",
          "text": [
            "\b\b\b\b\b\b\b\b\b\b\b\b\b\b\b\b\b\b\b\b\b\b\b\b\b\b\b\b\b\b\b\b\b\b\b\b\b\b\b\b\b\b\b\b\b\b\b\b\b\b\b\b\b\b\b\b\b\b\b\b\b\b\b\b\b\b\b\b\b\b\b\b\b\b\r\u001b[1m29/29\u001b[0m \u001b[32m━━━━━━━━━━━━━━━━━━━━\u001b[0m\u001b[37m\u001b[0m \u001b[1m22s\u001b[0m 706ms/step - accuracy: 0.5591 - loss: 1.1307 - val_accuracy: 0.5217 - val_loss: 1.1435\n",
            "Epoch 17/250\n",
            "\u001b[1m29/29\u001b[0m \u001b[32m━━━━━━━━━━━━━━━━━━━━\u001b[0m\u001b[37m\u001b[0m \u001b[1m19s\u001b[0m 666ms/step - accuracy: 0.5458 - loss: 1.1159 - val_accuracy: 0.4816 - val_loss: 1.3240\n",
            "Epoch 18/250\n",
            "\u001b[1m29/29\u001b[0m \u001b[32m━━━━━━━━━━━━━━━━━━━━\u001b[0m\u001b[37m\u001b[0m \u001b[1m20s\u001b[0m 689ms/step - accuracy: 0.5413 - loss: 1.1487 - val_accuracy: 0.4582 - val_loss: 1.2187\n",
            "Epoch 19/250\n",
            "\u001b[1m29/29\u001b[0m \u001b[32m━━━━━━━━━━━━━━━━━━━━\u001b[0m\u001b[37m\u001b[0m \u001b[1m0s\u001b[0m 627ms/step - accuracy: 0.5459 - loss: 1.0969"
          ]
        },
        {
          "output_type": "stream",
          "name": "stderr",
          "text": [
            "WARNING:absl:You are saving your model as an HDF5 file via `model.save()` or `keras.saving.save_model(model)`. This file format is considered legacy. We recommend using instead the native Keras format, e.g. `model.save('my_model.keras')` or `keras.saving.save_model(model, 'my_model.keras')`. \n"
          ]
        },
        {
          "output_type": "stream",
          "name": "stdout",
          "text": [
            "\b\b\b\b\b\b\b\b\b\b\b\b\b\b\b\b\b\b\b\b\b\b\b\b\b\b\b\b\b\b\b\b\b\b\b\b\b\b\b\b\b\b\b\b\b\b\b\b\b\b\b\b\b\b\b\b\b\b\b\b\b\b\b\b\b\b\b\b\b\b\b\b\b\b\r\u001b[1m29/29\u001b[0m \u001b[32m━━━━━━━━━━━━━━━━━━━━\u001b[0m\u001b[37m\u001b[0m \u001b[1m20s\u001b[0m 691ms/step - accuracy: 0.5452 - loss: 1.0987 - val_accuracy: 0.5452 - val_loss: 1.1646\n",
            "Epoch 20/250\n",
            "\u001b[1m29/29\u001b[0m \u001b[32m━━━━━━━━━━━━━━━━━━━━\u001b[0m\u001b[37m\u001b[0m \u001b[1m19s\u001b[0m 659ms/step - accuracy: 0.5316 - loss: 1.1432 - val_accuracy: 0.3077 - val_loss: 1.8286\n",
            "Epoch 21/250\n",
            "\u001b[1m29/29\u001b[0m \u001b[32m━━━━━━━━━━━━━━━━━━━━\u001b[0m\u001b[37m\u001b[0m \u001b[1m0s\u001b[0m 622ms/step - accuracy: 0.5256 - loss: 1.1251"
          ]
        },
        {
          "output_type": "stream",
          "name": "stderr",
          "text": [
            "WARNING:absl:You are saving your model as an HDF5 file via `model.save()` or `keras.saving.save_model(model)`. This file format is considered legacy. We recommend using instead the native Keras format, e.g. `model.save('my_model.keras')` or `keras.saving.save_model(model, 'my_model.keras')`. \n"
          ]
        },
        {
          "output_type": "stream",
          "name": "stdout",
          "text": [
            "\b\b\b\b\b\b\b\b\b\b\b\b\b\b\b\b\b\b\b\b\b\b\b\b\b\b\b\b\b\b\b\b\b\b\b\b\b\b\b\b\b\b\b\b\b\b\b\b\b\b\b\b\b\b\b\b\b\b\b\b\b\b\b\b\b\b\b\b\b\b\b\b\b\b\r\u001b[1m29/29\u001b[0m \u001b[32m━━━━━━━━━━━━━━━━━━━━\u001b[0m\u001b[37m\u001b[0m \u001b[1m21s\u001b[0m 694ms/step - accuracy: 0.5261 - loss: 1.1246 - val_accuracy: 0.6054 - val_loss: 0.9947\n",
            "Epoch 22/250\n",
            "\u001b[1m29/29\u001b[0m \u001b[32m━━━━━━━━━━━━━━━━━━━━\u001b[0m\u001b[37m\u001b[0m \u001b[1m20s\u001b[0m 695ms/step - accuracy: 0.5603 - loss: 1.0606 - val_accuracy: 0.4247 - val_loss: 1.8001\n",
            "Epoch 23/250\n",
            "\u001b[1m29/29\u001b[0m \u001b[32m━━━━━━━━━━━━━━━━━━━━\u001b[0m\u001b[37m\u001b[0m \u001b[1m20s\u001b[0m 666ms/step - accuracy: 0.5240 - loss: 1.0859 - val_accuracy: 0.3579 - val_loss: 1.6355\n",
            "Epoch 24/250\n",
            "\u001b[1m29/29\u001b[0m \u001b[32m━━━━━━━━━━━━━━━━━━━━\u001b[0m\u001b[37m\u001b[0m \u001b[1m0s\u001b[0m 644ms/step - accuracy: 0.5559 - loss: 1.1117"
          ]
        },
        {
          "output_type": "stream",
          "name": "stderr",
          "text": [
            "WARNING:absl:You are saving your model as an HDF5 file via `model.save()` or `keras.saving.save_model(model)`. This file format is considered legacy. We recommend using instead the native Keras format, e.g. `model.save('my_model.keras')` or `keras.saving.save_model(model, 'my_model.keras')`. \n"
          ]
        },
        {
          "output_type": "stream",
          "name": "stdout",
          "text": [
            "\b\b\b\b\b\b\b\b\b\b\b\b\b\b\b\b\b\b\b\b\b\b\b\b\b\b\b\b\b\b\b\b\b\b\b\b\b\b\b\b\b\b\b\b\b\b\b\b\b\b\b\b\b\b\b\b\b\b\b\b\b\b\b\b\b\b\b\b\b\b\b\b\b\b\r\u001b[1m29/29\u001b[0m \u001b[32m━━━━━━━━━━━━━━━━━━━━\u001b[0m\u001b[37m\u001b[0m \u001b[1m20s\u001b[0m 718ms/step - accuracy: 0.5558 - loss: 1.1110 - val_accuracy: 0.6221 - val_loss: 0.9874\n",
            "Epoch 25/250\n",
            "\u001b[1m29/29\u001b[0m \u001b[32m━━━━━━━━━━━━━━━━━━━━\u001b[0m\u001b[37m\u001b[0m \u001b[1m20s\u001b[0m 678ms/step - accuracy: 0.5830 - loss: 1.0212 - val_accuracy: 0.6187 - val_loss: 0.9573\n",
            "Epoch 26/250\n",
            "\u001b[1m29/29\u001b[0m \u001b[32m━━━━━━━━━━━━━━━━━━━━\u001b[0m\u001b[37m\u001b[0m \u001b[1m20s\u001b[0m 692ms/step - accuracy: 0.5436 - loss: 1.0883 - val_accuracy: 0.3110 - val_loss: 2.1126\n",
            "Epoch 27/250\n",
            "\u001b[1m29/29\u001b[0m \u001b[32m━━━━━━━━━━━━━━━━━━━━\u001b[0m\u001b[37m\u001b[0m \u001b[1m20s\u001b[0m 679ms/step - accuracy: 0.5837 - loss: 1.0450 - val_accuracy: 0.5886 - val_loss: 0.9561\n",
            "Epoch 28/250\n",
            "\u001b[1m29/29\u001b[0m \u001b[32m━━━━━━━━━━━━━━━━━━━━\u001b[0m\u001b[37m\u001b[0m \u001b[1m19s\u001b[0m 667ms/step - accuracy: 0.5590 - loss: 1.0187 - val_accuracy: 0.4114 - val_loss: 1.2440\n",
            "Epoch 29/250\n",
            "\u001b[1m29/29\u001b[0m \u001b[32m━━━━━━━━━━━━━━━━━━━━\u001b[0m\u001b[37m\u001b[0m \u001b[1m20s\u001b[0m 673ms/step - accuracy: 0.5514 - loss: 1.0737 - val_accuracy: 0.4983 - val_loss: 1.2164\n",
            "Epoch 30/250\n",
            "\u001b[1m29/29\u001b[0m \u001b[32m━━━━━━━━━━━━━━━━━━━━\u001b[0m\u001b[37m\u001b[0m \u001b[1m19s\u001b[0m 668ms/step - accuracy: 0.5720 - loss: 1.0518 - val_accuracy: 0.3545 - val_loss: 1.5220\n",
            "Epoch 31/250\n",
            "\u001b[1m29/29\u001b[0m \u001b[32m━━━━━━━━━━━━━━━━━━━━\u001b[0m\u001b[37m\u001b[0m \u001b[1m21s\u001b[0m 699ms/step - accuracy: 0.5908 - loss: 0.9992 - val_accuracy: 0.4381 - val_loss: 1.9386\n",
            "Epoch 32/250\n",
            "\u001b[1m29/29\u001b[0m \u001b[32m━━━━━━━━━━━━━━━━━━━━\u001b[0m\u001b[37m\u001b[0m \u001b[1m19s\u001b[0m 655ms/step - accuracy: 0.5804 - loss: 1.0097 - val_accuracy: 0.3880 - val_loss: 1.6042\n",
            "Epoch 33/250\n",
            "\u001b[1m29/29\u001b[0m \u001b[32m━━━━━━━━━━━━━━━━━━━━\u001b[0m\u001b[37m\u001b[0m \u001b[1m21s\u001b[0m 709ms/step - accuracy: 0.5762 - loss: 1.0132 - val_accuracy: 0.4816 - val_loss: 1.2102\n",
            "Epoch 34/250\n",
            "\u001b[1m29/29\u001b[0m \u001b[32m━━━━━━━━━━━━━━━━━━━━\u001b[0m\u001b[37m\u001b[0m \u001b[1m19s\u001b[0m 666ms/step - accuracy: 0.5440 - loss: 1.0872 - val_accuracy: 0.2977 - val_loss: 2.4364\n",
            "Epoch 35/250\n",
            "\u001b[1m29/29\u001b[0m \u001b[32m━━━━━━━━━━━━━━━━━━━━\u001b[0m\u001b[37m\u001b[0m \u001b[1m20s\u001b[0m 700ms/step - accuracy: 0.5808 - loss: 1.0024 - val_accuracy: 0.4348 - val_loss: 1.4494\n",
            "Epoch 36/250\n",
            "\u001b[1m29/29\u001b[0m \u001b[32m━━━━━━━━━━━━━━━━━━━━\u001b[0m\u001b[37m\u001b[0m \u001b[1m19s\u001b[0m 657ms/step - accuracy: 0.5795 - loss: 1.0070 - val_accuracy: 0.5819 - val_loss: 1.0233\n",
            "Epoch 37/250\n",
            "\u001b[1m29/29\u001b[0m \u001b[32m━━━━━━━━━━━━━━━━━━━━\u001b[0m\u001b[37m\u001b[0m \u001b[1m20s\u001b[0m 674ms/step - accuracy: 0.5808 - loss: 0.9785 - val_accuracy: 0.4482 - val_loss: 1.3894\n",
            "Epoch 38/250\n",
            "\u001b[1m29/29\u001b[0m \u001b[32m━━━━━━━━━━━━━━━━━━━━\u001b[0m\u001b[37m\u001b[0m \u001b[1m20s\u001b[0m 672ms/step - accuracy: 0.5787 - loss: 1.0049 - val_accuracy: 0.6020 - val_loss: 1.0166\n",
            "Epoch 39/250\n",
            "\u001b[1m29/29\u001b[0m \u001b[32m━━━━━━━━━━━━━━━━━━━━\u001b[0m\u001b[37m\u001b[0m \u001b[1m20s\u001b[0m 681ms/step - accuracy: 0.5894 - loss: 0.9807 - val_accuracy: 0.5217 - val_loss: 1.3371\n",
            "Epoch 40/250\n",
            "\u001b[1m29/29\u001b[0m \u001b[32m━━━━━━━━━━━━━━━━━━━━\u001b[0m\u001b[37m\u001b[0m \u001b[1m20s\u001b[0m 683ms/step - accuracy: 0.5647 - loss: 0.9901 - val_accuracy: 0.5786 - val_loss: 1.0077\n",
            "Epoch 41/250\n",
            "\u001b[1m29/29\u001b[0m \u001b[32m━━━━━━━━━━━━━━━━━━━━\u001b[0m\u001b[37m\u001b[0m \u001b[1m19s\u001b[0m 665ms/step - accuracy: 0.5773 - loss: 1.0003 - val_accuracy: 0.5251 - val_loss: 1.0520\n",
            "Epoch 42/250\n",
            "\u001b[1m29/29\u001b[0m \u001b[32m━━━━━━━━━━━━━━━━━━━━\u001b[0m\u001b[37m\u001b[0m \u001b[1m21s\u001b[0m 712ms/step - accuracy: 0.5751 - loss: 0.9864 - val_accuracy: 0.5753 - val_loss: 1.0389\n",
            "Epoch 43/250\n",
            "\u001b[1m29/29\u001b[0m \u001b[32m━━━━━━━━━━━━━━━━━━━━\u001b[0m\u001b[37m\u001b[0m \u001b[1m20s\u001b[0m 674ms/step - accuracy: 0.5876 - loss: 0.9732 - val_accuracy: 0.5786 - val_loss: 0.9918\n",
            "Epoch 44/250\n",
            "\u001b[1m29/29\u001b[0m \u001b[32m━━━━━━━━━━━━━━━━━━━━\u001b[0m\u001b[37m\u001b[0m \u001b[1m21s\u001b[0m 707ms/step - accuracy: 0.6128 - loss: 0.9385 - val_accuracy: 0.5987 - val_loss: 0.9648\n",
            "Epoch 45/250\n",
            "\u001b[1m29/29\u001b[0m \u001b[32m━━━━━━━━━━━━━━━━━━━━\u001b[0m\u001b[37m\u001b[0m \u001b[1m19s\u001b[0m 672ms/step - accuracy: 0.6054 - loss: 0.9519 - val_accuracy: 0.5518 - val_loss: 1.2123\n",
            "Epoch 46/250\n",
            "\u001b[1m29/29\u001b[0m \u001b[32m━━━━━━━━━━━━━━━━━━━━\u001b[0m\u001b[37m\u001b[0m \u001b[1m20s\u001b[0m 686ms/step - accuracy: 0.6203 - loss: 0.9441 - val_accuracy: 0.4883 - val_loss: 1.2359\n",
            "Epoch 47/250\n",
            "\u001b[1m29/29\u001b[0m \u001b[32m━━━━━━━━━━━━━━━━━━━━\u001b[0m\u001b[37m\u001b[0m \u001b[1m20s\u001b[0m 664ms/step - accuracy: 0.5556 - loss: 1.0192 - val_accuracy: 0.6054 - val_loss: 0.9534\n",
            "Epoch 48/250\n",
            "\u001b[1m29/29\u001b[0m \u001b[32m━━━━━━━━━━━━━━━━━━━━\u001b[0m\u001b[37m\u001b[0m \u001b[1m20s\u001b[0m 683ms/step - accuracy: 0.5838 - loss: 0.9691 - val_accuracy: 0.4147 - val_loss: 2.0231\n",
            "Epoch 49/250\n",
            "\u001b[1m29/29\u001b[0m \u001b[32m━━━━━━━━━━━━━━━━━━━━\u001b[0m\u001b[37m\u001b[0m \u001b[1m19s\u001b[0m 656ms/step - accuracy: 0.5585 - loss: 0.9774 - val_accuracy: 0.2709 - val_loss: 2.6463\n",
            "Epoch 50/250\n",
            "\u001b[1m29/29\u001b[0m \u001b[32m━━━━━━━━━━━━━━━━━━━━\u001b[0m\u001b[37m\u001b[0m \u001b[1m19s\u001b[0m 669ms/step - accuracy: 0.5974 - loss: 0.9602 - val_accuracy: 0.3846 - val_loss: 2.0724\n",
            "Epoch 51/250\n",
            "\u001b[1m29/29\u001b[0m \u001b[32m━━━━━━━━━━━━━━━━━━━━\u001b[0m\u001b[37m\u001b[0m \u001b[1m21s\u001b[0m 664ms/step - accuracy: 0.6335 - loss: 0.9111 - val_accuracy: 0.4816 - val_loss: 1.2715\n",
            "Epoch 52/250\n",
            "\u001b[1m29/29\u001b[0m \u001b[32m━━━━━━━━━━━━━━━━━━━━\u001b[0m\u001b[37m\u001b[0m \u001b[1m19s\u001b[0m 666ms/step - accuracy: 0.6198 - loss: 0.9414 - val_accuracy: 0.4147 - val_loss: 1.3161\n",
            "Epoch 53/250\n",
            "\u001b[1m29/29\u001b[0m \u001b[32m━━━━━━━━━━━━━━━━━━━━\u001b[0m\u001b[37m\u001b[0m \u001b[1m21s\u001b[0m 666ms/step - accuracy: 0.5734 - loss: 0.9837 - val_accuracy: 0.5017 - val_loss: 1.1314\n",
            "Epoch 54/250\n",
            "\u001b[1m29/29\u001b[0m \u001b[32m━━━━━━━━━━━━━━━━━━━━\u001b[0m\u001b[37m\u001b[0m \u001b[1m0s\u001b[0m 643ms/step - accuracy: 0.6145 - loss: 0.9270"
          ]
        },
        {
          "output_type": "stream",
          "name": "stderr",
          "text": [
            "WARNING:absl:You are saving your model as an HDF5 file via `model.save()` or `keras.saving.save_model(model)`. This file format is considered legacy. We recommend using instead the native Keras format, e.g. `model.save('my_model.keras')` or `keras.saving.save_model(model, 'my_model.keras')`. \n"
          ]
        },
        {
          "output_type": "stream",
          "name": "stdout",
          "text": [
            "\b\b\b\b\b\b\b\b\b\b\b\b\b\b\b\b\b\b\b\b\b\b\b\b\b\b\b\b\b\b\b\b\b\b\b\b\b\b\b\b\b\b\b\b\b\b\b\b\b\b\b\b\b\b\b\b\b\b\b\b\b\b\b\b\b\b\b\b\b\b\b\b\b\b\r\u001b[1m29/29\u001b[0m \u001b[32m━━━━━━━━━━━━━━━━━━━━\u001b[0m\u001b[37m\u001b[0m \u001b[1m21s\u001b[0m 714ms/step - accuracy: 0.6144 - loss: 0.9276 - val_accuracy: 0.6321 - val_loss: 0.9703\n",
            "Epoch 55/250\n",
            "\u001b[1m29/29\u001b[0m \u001b[32m━━━━━━━━━━━━━━━━━━━━\u001b[0m\u001b[37m\u001b[0m \u001b[1m20s\u001b[0m 683ms/step - accuracy: 0.5999 - loss: 0.9578 - val_accuracy: 0.4716 - val_loss: 1.6958\n",
            "Epoch 56/250\n",
            "\u001b[1m29/29\u001b[0m \u001b[32m━━━━━━━━━━━━━━━━━━━━\u001b[0m\u001b[37m\u001b[0m \u001b[1m20s\u001b[0m 681ms/step - accuracy: 0.5952 - loss: 0.9363 - val_accuracy: 0.3311 - val_loss: 1.6426\n",
            "Epoch 57/250\n",
            "\u001b[1m29/29\u001b[0m \u001b[32m━━━━━━━━━━━━━━━━━━━━\u001b[0m\u001b[37m\u001b[0m \u001b[1m0s\u001b[0m 630ms/step - accuracy: 0.5839 - loss: 0.9577"
          ]
        },
        {
          "output_type": "stream",
          "name": "stderr",
          "text": [
            "WARNING:absl:You are saving your model as an HDF5 file via `model.save()` or `keras.saving.save_model(model)`. This file format is considered legacy. We recommend using instead the native Keras format, e.g. `model.save('my_model.keras')` or `keras.saving.save_model(model, 'my_model.keras')`. \n"
          ]
        },
        {
          "output_type": "stream",
          "name": "stdout",
          "text": [
            "\b\b\b\b\b\b\b\b\b\b\b\b\b\b\b\b\b\b\b\b\b\b\b\b\b\b\b\b\b\b\b\b\b\b\b\b\b\b\b\b\b\b\b\b\b\b\b\b\b\b\b\b\b\b\b\b\b\b\b\b\b\b\b\b\b\b\b\b\b\b\b\b\b\b\r\u001b[1m29/29\u001b[0m \u001b[32m━━━━━━━━━━━━━━━━━━━━\u001b[0m\u001b[37m\u001b[0m \u001b[1m21s\u001b[0m 704ms/step - accuracy: 0.5845 - loss: 0.9566 - val_accuracy: 0.6455 - val_loss: 0.8850\n",
            "Epoch 58/250\n",
            "\u001b[1m29/29\u001b[0m \u001b[32m━━━━━━━━━━━━━━━━━━━━\u001b[0m\u001b[37m\u001b[0m \u001b[1m19s\u001b[0m 672ms/step - accuracy: 0.5994 - loss: 0.9405 - val_accuracy: 0.5251 - val_loss: 1.3791\n",
            "Epoch 59/250\n",
            "\u001b[1m29/29\u001b[0m \u001b[32m━━━━━━━━━━━━━━━━━━━━\u001b[0m\u001b[37m\u001b[0m \u001b[1m20s\u001b[0m 691ms/step - accuracy: 0.6028 - loss: 0.9279 - val_accuracy: 0.5050 - val_loss: 1.1870\n",
            "Epoch 60/250\n",
            "\u001b[1m29/29\u001b[0m \u001b[32m━━━━━━━━━━━━━━━━━━━━\u001b[0m\u001b[37m\u001b[0m \u001b[1m20s\u001b[0m 672ms/step - accuracy: 0.6210 - loss: 0.8860 - val_accuracy: 0.5151 - val_loss: 1.0860\n",
            "Epoch 61/250\n",
            "\u001b[1m29/29\u001b[0m \u001b[32m━━━━━━━━━━━━━━━━━━━━\u001b[0m\u001b[37m\u001b[0m \u001b[1m20s\u001b[0m 695ms/step - accuracy: 0.6106 - loss: 0.8977 - val_accuracy: 0.3344 - val_loss: 2.9425\n",
            "Epoch 62/250\n",
            "\u001b[1m29/29\u001b[0m \u001b[32m━━━━━━━━━━━━━━━━━━━━\u001b[0m\u001b[37m\u001b[0m \u001b[1m19s\u001b[0m 667ms/step - accuracy: 0.6103 - loss: 0.9195 - val_accuracy: 0.5452 - val_loss: 1.1252\n",
            "Epoch 63/250\n",
            "\u001b[1m29/29\u001b[0m \u001b[32m━━━━━━━━━━━━━━━━━━━━\u001b[0m\u001b[37m\u001b[0m \u001b[1m20s\u001b[0m 705ms/step - accuracy: 0.6110 - loss: 0.9106 - val_accuracy: 0.4348 - val_loss: 1.5288\n",
            "Epoch 64/250\n",
            "\u001b[1m29/29\u001b[0m \u001b[32m━━━━━━━━━━━━━━━━━━━━\u001b[0m\u001b[37m\u001b[0m \u001b[1m19s\u001b[0m 673ms/step - accuracy: 0.5745 - loss: 0.9837 - val_accuracy: 0.2843 - val_loss: 2.6212\n",
            "Epoch 65/250\n",
            "\u001b[1m29/29\u001b[0m \u001b[32m━━━━━━━━━━━━━━━━━━━━\u001b[0m\u001b[37m\u001b[0m \u001b[1m20s\u001b[0m 691ms/step - accuracy: 0.5929 - loss: 0.9163 - val_accuracy: 0.4783 - val_loss: 1.4563\n",
            "Epoch 66/250\n",
            "\u001b[1m29/29\u001b[0m \u001b[32m━━━━━━━━━━━━━━━━━━━━\u001b[0m\u001b[37m\u001b[0m \u001b[1m19s\u001b[0m 662ms/step - accuracy: 0.5836 - loss: 0.9709 - val_accuracy: 0.4582 - val_loss: 1.3590\n",
            "Epoch 67/250\n",
            "\u001b[1m29/29\u001b[0m \u001b[32m━━━━━━━━━━━━━━━━━━━━\u001b[0m\u001b[37m\u001b[0m \u001b[1m21s\u001b[0m 695ms/step - accuracy: 0.6116 - loss: 0.8912 - val_accuracy: 0.5452 - val_loss: 1.1486\n",
            "Epoch 68/250\n",
            "\u001b[1m29/29\u001b[0m \u001b[32m━━━━━━━━━━━━━━━━━━━━\u001b[0m\u001b[37m\u001b[0m \u001b[1m19s\u001b[0m 661ms/step - accuracy: 0.6180 - loss: 0.9022 - val_accuracy: 0.5686 - val_loss: 0.8969\n",
            "Epoch 69/250\n",
            "\u001b[1m29/29\u001b[0m \u001b[32m━━━━━━━━━━━━━━━━━━━━\u001b[0m\u001b[37m\u001b[0m \u001b[1m20s\u001b[0m 675ms/step - accuracy: 0.5845 - loss: 0.9244 - val_accuracy: 0.3411 - val_loss: 2.0910\n",
            "Epoch 70/250\n",
            "\u001b[1m29/29\u001b[0m \u001b[32m━━━━━━━━━━━━━━━━━━━━\u001b[0m\u001b[37m\u001b[0m \u001b[1m20s\u001b[0m 661ms/step - accuracy: 0.6022 - loss: 0.8973 - val_accuracy: 0.4548 - val_loss: 1.2325\n",
            "Epoch 71/250\n",
            "\u001b[1m29/29\u001b[0m \u001b[32m━━━━━━━━━━━━━━━━━━━━\u001b[0m\u001b[37m\u001b[0m \u001b[1m19s\u001b[0m 661ms/step - accuracy: 0.5976 - loss: 0.9264 - val_accuracy: 0.4114 - val_loss: 1.6600\n",
            "Epoch 72/250\n",
            "\u001b[1m29/29\u001b[0m \u001b[32m━━━━━━━━━━━━━━━━━━━━\u001b[0m\u001b[37m\u001b[0m \u001b[1m21s\u001b[0m 667ms/step - accuracy: 0.6184 - loss: 0.9046 - val_accuracy: 0.6421 - val_loss: 0.8404\n",
            "Epoch 73/250\n",
            "\u001b[1m29/29\u001b[0m \u001b[32m━━━━━━━━━━━━━━━━━━━━\u001b[0m\u001b[37m\u001b[0m \u001b[1m19s\u001b[0m 668ms/step - accuracy: 0.6247 - loss: 0.9087 - val_accuracy: 0.6154 - val_loss: 1.1133\n",
            "Epoch 74/250\n",
            "\u001b[1m29/29\u001b[0m \u001b[32m━━━━━━━━━━━━━━━━━━━━\u001b[0m\u001b[37m\u001b[0m \u001b[1m20s\u001b[0m 687ms/step - accuracy: 0.6049 - loss: 0.9206 - val_accuracy: 0.5151 - val_loss: 1.0798\n",
            "Epoch 75/250\n",
            "\u001b[1m29/29\u001b[0m \u001b[32m━━━━━━━━━━━━━━━━━━━━\u001b[0m\u001b[37m\u001b[0m \u001b[1m0s\u001b[0m 632ms/step - accuracy: 0.6133 - loss: 0.8798"
          ]
        },
        {
          "output_type": "stream",
          "name": "stderr",
          "text": [
            "WARNING:absl:You are saving your model as an HDF5 file via `model.save()` or `keras.saving.save_model(model)`. This file format is considered legacy. We recommend using instead the native Keras format, e.g. `model.save('my_model.keras')` or `keras.saving.save_model(model, 'my_model.keras')`. \n"
          ]
        },
        {
          "output_type": "stream",
          "name": "stdout",
          "text": [
            "\b\b\b\b\b\b\b\b\b\b\b\b\b\b\b\b\b\b\b\b\b\b\b\b\b\b\b\b\b\b\b\b\b\b\b\b\b\b\b\b\b\b\b\b\b\b\b\b\b\b\b\b\b\b\b\b\b\b\b\b\b\b\b\b\b\b\b\b\b\b\b\b\b\b\r\u001b[1m29/29\u001b[0m \u001b[32m━━━━━━━━━━━━━━━━━━━━\u001b[0m\u001b[37m\u001b[0m \u001b[1m21s\u001b[0m 706ms/step - accuracy: 0.6135 - loss: 0.8800 - val_accuracy: 0.6622 - val_loss: 0.8736\n",
            "Epoch 76/250\n",
            "\u001b[1m29/29\u001b[0m \u001b[32m━━━━━━━━━━━━━━━━━━━━\u001b[0m\u001b[37m\u001b[0m \u001b[1m40s\u001b[0m 684ms/step - accuracy: 0.6203 - loss: 0.8723 - val_accuracy: 0.5084 - val_loss: 1.1866\n",
            "Epoch 77/250\n",
            "\u001b[1m29/29\u001b[0m \u001b[32m━━━━━━━━━━━━━━━━━━━━\u001b[0m\u001b[37m\u001b[0m \u001b[1m19s\u001b[0m 666ms/step - accuracy: 0.6066 - loss: 0.8853 - val_accuracy: 0.5217 - val_loss: 1.0109\n",
            "Epoch 78/250\n",
            "\u001b[1m29/29\u001b[0m \u001b[32m━━━━━━━━━━━━━━━━━━━━\u001b[0m\u001b[37m\u001b[0m \u001b[1m20s\u001b[0m 688ms/step - accuracy: 0.6503 - loss: 0.8548 - val_accuracy: 0.4582 - val_loss: 1.5432\n",
            "Epoch 79/250\n",
            "\u001b[1m29/29\u001b[0m \u001b[32m━━━━━━━━━━━━━━━━━━━━\u001b[0m\u001b[37m\u001b[0m \u001b[1m0s\u001b[0m 634ms/step - accuracy: 0.6119 - loss: 0.8759"
          ]
        },
        {
          "output_type": "stream",
          "name": "stderr",
          "text": [
            "WARNING:absl:You are saving your model as an HDF5 file via `model.save()` or `keras.saving.save_model(model)`. This file format is considered legacy. We recommend using instead the native Keras format, e.g. `model.save('my_model.keras')` or `keras.saving.save_model(model, 'my_model.keras')`. \n"
          ]
        },
        {
          "output_type": "stream",
          "name": "stdout",
          "text": [
            "\b\b\b\b\b\b\b\b\b\b\b\b\b\b\b\b\b\b\b\b\b\b\b\b\b\b\b\b\b\b\b\b\b\b\b\b\b\b\b\b\b\b\b\b\b\b\b\b\b\b\b\b\b\b\b\b\b\b\b\b\b\b\b\b\b\b\b\b\b\b\b\b\b\b\r\u001b[1m29/29\u001b[0m \u001b[32m━━━━━━━━━━━━━━━━━━━━\u001b[0m\u001b[37m\u001b[0m \u001b[1m20s\u001b[0m 697ms/step - accuracy: 0.6119 - loss: 0.8759 - val_accuracy: 0.6722 - val_loss: 0.8959\n",
            "Epoch 80/250\n",
            "\u001b[1m29/29\u001b[0m \u001b[32m━━━━━━━━━━━━━━━━━━━━\u001b[0m\u001b[37m\u001b[0m \u001b[1m19s\u001b[0m 664ms/step - accuracy: 0.6360 - loss: 0.8768 - val_accuracy: 0.4783 - val_loss: 1.2982\n",
            "Epoch 81/250\n",
            "\u001b[1m29/29\u001b[0m \u001b[32m━━━━━━━━━━━━━━━━━━━━\u001b[0m\u001b[37m\u001b[0m \u001b[1m20s\u001b[0m 665ms/step - accuracy: 0.6037 - loss: 0.9029 - val_accuracy: 0.3980 - val_loss: 1.7531\n",
            "Epoch 82/250\n",
            "\u001b[1m29/29\u001b[0m \u001b[32m━━━━━━━━━━━━━━━━━━━━\u001b[0m\u001b[37m\u001b[0m \u001b[1m19s\u001b[0m 653ms/step - accuracy: 0.6220 - loss: 0.9011 - val_accuracy: 0.5552 - val_loss: 1.1152\n",
            "Epoch 83/250\n",
            "\u001b[1m29/29\u001b[0m \u001b[32m━━━━━━━━━━━━━━━━━━━━\u001b[0m\u001b[37m\u001b[0m \u001b[1m20s\u001b[0m 697ms/step - accuracy: 0.6345 - loss: 0.8341 - val_accuracy: 0.3645 - val_loss: 1.7070\n",
            "Epoch 84/250\n",
            "\u001b[1m29/29\u001b[0m \u001b[32m━━━━━━━━━━━━━━━━━━━━\u001b[0m\u001b[37m\u001b[0m \u001b[1m19s\u001b[0m 648ms/step - accuracy: 0.6250 - loss: 0.8933 - val_accuracy: 0.3712 - val_loss: 1.7862\n",
            "Epoch 85/250\n",
            "\u001b[1m29/29\u001b[0m \u001b[32m━━━━━━━━━━━━━━━━━━━━\u001b[0m\u001b[37m\u001b[0m \u001b[1m20s\u001b[0m 699ms/step - accuracy: 0.6241 - loss: 0.8844 - val_accuracy: 0.6020 - val_loss: 0.9796\n",
            "Epoch 86/250\n",
            "\u001b[1m29/29\u001b[0m \u001b[32m━━━━━━━━━━━━━━━━━━━━\u001b[0m\u001b[37m\u001b[0m \u001b[1m19s\u001b[0m 666ms/step - accuracy: 0.6304 - loss: 0.8694 - val_accuracy: 0.5953 - val_loss: 1.1219\n",
            "Epoch 87/250\n",
            "\u001b[1m29/29\u001b[0m \u001b[32m━━━━━━━━━━━━━━━━━━━━\u001b[0m\u001b[37m\u001b[0m \u001b[1m20s\u001b[0m 681ms/step - accuracy: 0.6328 - loss: 0.8420 - val_accuracy: 0.5987 - val_loss: 0.9452\n",
            "Epoch 88/250\n",
            "\u001b[1m29/29\u001b[0m \u001b[32m━━━━━━━━━━━━━━━━━━━━\u001b[0m\u001b[37m\u001b[0m \u001b[1m20s\u001b[0m 649ms/step - accuracy: 0.6279 - loss: 0.8807 - val_accuracy: 0.5217 - val_loss: 1.1325\n",
            "Epoch 89/250\n",
            "\u001b[1m29/29\u001b[0m \u001b[32m━━━━━━━━━━━━━━━━━━━━\u001b[0m\u001b[37m\u001b[0m \u001b[1m20s\u001b[0m 692ms/step - accuracy: 0.6334 - loss: 0.8790 - val_accuracy: 0.5953 - val_loss: 1.1624\n",
            "Epoch 90/250\n",
            "\u001b[1m29/29\u001b[0m \u001b[32m━━━━━━━━━━━━━━━━━━━━\u001b[0m\u001b[37m\u001b[0m \u001b[1m0s\u001b[0m 649ms/step - accuracy: 0.6298 - loss: 0.8481"
          ]
        },
        {
          "output_type": "stream",
          "name": "stderr",
          "text": [
            "WARNING:absl:You are saving your model as an HDF5 file via `model.save()` or `keras.saving.save_model(model)`. This file format is considered legacy. We recommend using instead the native Keras format, e.g. `model.save('my_model.keras')` or `keras.saving.save_model(model, 'my_model.keras')`. \n"
          ]
        },
        {
          "output_type": "stream",
          "name": "stdout",
          "text": [
            "\b\b\b\b\b\b\b\b\b\b\b\b\b\b\b\b\b\b\b\b\b\b\b\b\b\b\b\b\b\b\b\b\b\b\b\b\b\b\b\b\b\b\b\b\b\b\b\b\b\b\b\b\b\b\b\b\b\b\b\b\b\b\b\b\b\b\b\b\b\b\b\b\b\b\r\u001b[1m29/29\u001b[0m \u001b[32m━━━━━━━━━━━━━━━━━━━━\u001b[0m\u001b[37m\u001b[0m \u001b[1m21s\u001b[0m 714ms/step - accuracy: 0.6299 - loss: 0.8482 - val_accuracy: 0.6890 - val_loss: 0.8385\n",
            "Epoch 91/250\n",
            "\u001b[1m29/29\u001b[0m \u001b[32m━━━━━━━━━━━━━━━━━━━━\u001b[0m\u001b[37m\u001b[0m \u001b[1m20s\u001b[0m 674ms/step - accuracy: 0.6074 - loss: 0.8880 - val_accuracy: 0.4080 - val_loss: 1.9827\n",
            "Epoch 92/250\n",
            "\u001b[1m29/29\u001b[0m \u001b[32m━━━━━━━━━━━━━━━━━━━━\u001b[0m\u001b[37m\u001b[0m \u001b[1m20s\u001b[0m 662ms/step - accuracy: 0.6275 - loss: 0.8700 - val_accuracy: 0.4983 - val_loss: 1.2794\n",
            "Epoch 93/250\n",
            "\u001b[1m29/29\u001b[0m \u001b[32m━━━━━━━━━━━━━━━━━━━━\u001b[0m\u001b[37m\u001b[0m \u001b[1m19s\u001b[0m 662ms/step - accuracy: 0.6028 - loss: 0.8941 - val_accuracy: 0.5886 - val_loss: 0.8819\n",
            "Epoch 94/250\n",
            "\u001b[1m29/29\u001b[0m \u001b[32m━━━━━━━━━━━━━━━━━━━━\u001b[0m\u001b[37m\u001b[0m \u001b[1m21s\u001b[0m 673ms/step - accuracy: 0.6270 - loss: 0.8786 - val_accuracy: 0.6388 - val_loss: 0.9819\n",
            "Epoch 95/250\n",
            "\u001b[1m29/29\u001b[0m \u001b[32m━━━━━━━━━━━━━━━━━━━━\u001b[0m\u001b[37m\u001b[0m \u001b[1m20s\u001b[0m 689ms/step - accuracy: 0.6420 - loss: 0.8546 - val_accuracy: 0.4716 - val_loss: 1.5451\n",
            "Epoch 96/250\n",
            "\u001b[1m29/29\u001b[0m \u001b[32m━━━━━━━━━━━━━━━━━━━━\u001b[0m\u001b[37m\u001b[0m \u001b[1m19s\u001b[0m 658ms/step - accuracy: 0.6355 - loss: 0.8553 - val_accuracy: 0.3010 - val_loss: 3.1154\n",
            "Epoch 97/250\n",
            "\u001b[1m29/29\u001b[0m \u001b[32m━━━━━━━━━━━━━━━━━━━━\u001b[0m\u001b[37m\u001b[0m \u001b[1m19s\u001b[0m 659ms/step - accuracy: 0.6303 - loss: 0.8352 - val_accuracy: 0.3679 - val_loss: 1.9176\n",
            "Epoch 98/250\n",
            "\u001b[1m29/29\u001b[0m \u001b[32m━━━━━━━━━━━━━━━━━━━━\u001b[0m\u001b[37m\u001b[0m \u001b[1m21s\u001b[0m 662ms/step - accuracy: 0.6288 - loss: 0.8398 - val_accuracy: 0.5251 - val_loss: 1.2356\n",
            "Epoch 99/250\n",
            "\u001b[1m29/29\u001b[0m \u001b[32m━━━━━━━━━━━━━━━━━━━━\u001b[0m\u001b[37m\u001b[0m \u001b[1m19s\u001b[0m 646ms/step - accuracy: 0.6526 - loss: 0.8377 - val_accuracy: 0.5819 - val_loss: 0.9866\n",
            "Epoch 100/250\n",
            "\u001b[1m29/29\u001b[0m \u001b[32m━━━━━━━━━━━━━━━━━━━━\u001b[0m\u001b[37m\u001b[0m \u001b[1m20s\u001b[0m 691ms/step - accuracy: 0.6281 - loss: 0.8454 - val_accuracy: 0.6622 - val_loss: 0.8150\n",
            "Epoch 101/250\n",
            "\u001b[1m29/29\u001b[0m \u001b[32m━━━━━━━━━━━━━━━━━━━━\u001b[0m\u001b[37m\u001b[0m \u001b[1m19s\u001b[0m 662ms/step - accuracy: 0.6211 - loss: 0.9175 - val_accuracy: 0.4214 - val_loss: 1.6931\n",
            "Epoch 102/250\n",
            "\u001b[1m29/29\u001b[0m \u001b[32m━━━━━━━━━━━━━━━━━━━━\u001b[0m\u001b[37m\u001b[0m \u001b[1m21s\u001b[0m 693ms/step - accuracy: 0.6378 - loss: 0.8635 - val_accuracy: 0.3411 - val_loss: 2.6365\n",
            "Epoch 103/250\n",
            "\u001b[1m29/29\u001b[0m \u001b[32m━━━━━━━━━━━━━━━━━━━━\u001b[0m\u001b[37m\u001b[0m \u001b[1m19s\u001b[0m 666ms/step - accuracy: 0.6118 - loss: 0.8788 - val_accuracy: 0.6020 - val_loss: 0.9249\n",
            "Epoch 104/250\n",
            "\u001b[1m29/29\u001b[0m \u001b[32m━━━━━━━━━━━━━━━━━━━━\u001b[0m\u001b[37m\u001b[0m \u001b[1m21s\u001b[0m 714ms/step - accuracy: 0.6614 - loss: 0.8030 - val_accuracy: 0.5953 - val_loss: 0.9284\n",
            "Epoch 105/250\n",
            "\u001b[1m29/29\u001b[0m \u001b[32m━━━━━━━━━━━━━━━━━━━━\u001b[0m\u001b[37m\u001b[0m \u001b[1m20s\u001b[0m 679ms/step - accuracy: 0.6359 - loss: 0.8453 - val_accuracy: 0.6488 - val_loss: 0.9047\n",
            "Epoch 106/250\n",
            "\u001b[1m29/29\u001b[0m \u001b[32m━━━━━━━━━━━━━━━━━━━━\u001b[0m\u001b[37m\u001b[0m \u001b[1m20s\u001b[0m 699ms/step - accuracy: 0.6148 - loss: 0.8841 - val_accuracy: 0.2575 - val_loss: 5.5925\n",
            "Epoch 107/250\n",
            "\u001b[1m29/29\u001b[0m \u001b[32m━━━━━━━━━━━━━━━━━━━━\u001b[0m\u001b[37m\u001b[0m \u001b[1m20s\u001b[0m 667ms/step - accuracy: 0.6238 - loss: 0.9001 - val_accuracy: 0.5853 - val_loss: 0.9222\n",
            "Epoch 108/250\n",
            "\u001b[1m29/29\u001b[0m \u001b[32m━━━━━━━━━━━━━━━━━━━━\u001b[0m\u001b[37m\u001b[0m \u001b[1m21s\u001b[0m 697ms/step - accuracy: 0.6305 - loss: 0.8408 - val_accuracy: 0.6555 - val_loss: 0.9175\n",
            "Epoch 109/250\n",
            "\u001b[1m29/29\u001b[0m \u001b[32m━━━━━━━━━━━━━━━━━━━━\u001b[0m\u001b[37m\u001b[0m \u001b[1m19s\u001b[0m 657ms/step - accuracy: 0.5625 - loss: 0.9242 - val_accuracy: 0.4783 - val_loss: 1.4466\n",
            "Epoch 110/250\n",
            "\u001b[1m29/29\u001b[0m \u001b[32m━━━━━━━━━━━━━━━━━━━━\u001b[0m\u001b[37m\u001b[0m \u001b[1m20s\u001b[0m 686ms/step - accuracy: 0.6211 - loss: 0.9078 - val_accuracy: 0.6455 - val_loss: 0.8197\n",
            "Epoch 111/250\n",
            "\u001b[1m29/29\u001b[0m \u001b[32m━━━━━━━━━━━━━━━━━━━━\u001b[0m\u001b[37m\u001b[0m \u001b[1m19s\u001b[0m 656ms/step - accuracy: 0.6203 - loss: 0.8633 - val_accuracy: 0.3913 - val_loss: 1.9128\n",
            "Epoch 112/250\n",
            "\u001b[1m29/29\u001b[0m \u001b[32m━━━━━━━━━━━━━━━━━━━━\u001b[0m\u001b[37m\u001b[0m \u001b[1m19s\u001b[0m 665ms/step - accuracy: 0.6177 - loss: 0.8921 - val_accuracy: 0.5418 - val_loss: 1.1459\n",
            "Epoch 113/250\n",
            "\u001b[1m29/29\u001b[0m \u001b[32m━━━━━━━━━━━━━━━━━━━━\u001b[0m\u001b[37m\u001b[0m \u001b[1m20s\u001b[0m 657ms/step - accuracy: 0.6417 - loss: 0.8462 - val_accuracy: 0.3746 - val_loss: 2.3565\n",
            "Epoch 114/250\n",
            "\u001b[1m29/29\u001b[0m \u001b[32m━━━━━━━━━━━━━━━━━━━━\u001b[0m\u001b[37m\u001b[0m \u001b[1m19s\u001b[0m 657ms/step - accuracy: 0.6190 - loss: 0.8567 - val_accuracy: 0.6154 - val_loss: 0.9493\n",
            "Epoch 115/250\n",
            "\u001b[1m29/29\u001b[0m \u001b[32m━━━━━━━━━━━━━━━━━━━━\u001b[0m\u001b[37m\u001b[0m \u001b[1m20s\u001b[0m 676ms/step - accuracy: 0.6498 - loss: 0.8224 - val_accuracy: 0.4548 - val_loss: 1.4372\n",
            "Epoch 116/250\n",
            "\u001b[1m29/29\u001b[0m \u001b[32m━━━━━━━━━━━━━━━━━━━━\u001b[0m\u001b[37m\u001b[0m \u001b[1m19s\u001b[0m 656ms/step - accuracy: 0.6319 - loss: 0.8676 - val_accuracy: 0.3679 - val_loss: 2.7409\n",
            "Epoch 117/250\n",
            "\u001b[1m29/29\u001b[0m \u001b[32m━━━━━━━━━━━━━━━━━━━━\u001b[0m\u001b[37m\u001b[0m \u001b[1m20s\u001b[0m 693ms/step - accuracy: 0.6290 - loss: 0.8449 - val_accuracy: 0.4181 - val_loss: 1.6034\n",
            "Epoch 118/250\n",
            "\u001b[1m29/29\u001b[0m \u001b[32m━━━━━━━━━━━━━━━━━━━━\u001b[0m\u001b[37m\u001b[0m \u001b[1m19s\u001b[0m 668ms/step - accuracy: 0.6529 - loss: 0.8267 - val_accuracy: 0.5084 - val_loss: 1.3126\n",
            "Epoch 119/250\n",
            "\u001b[1m29/29\u001b[0m \u001b[32m━━━━━━━━━━━━━━━━━━━━\u001b[0m\u001b[37m\u001b[0m \u001b[1m21s\u001b[0m 743ms/step - accuracy: 0.6269 - loss: 0.8610 - val_accuracy: 0.4381 - val_loss: 1.5695\n",
            "Epoch 120/250\n",
            "\u001b[1m29/29\u001b[0m \u001b[32m━━━━━━━━━━━━━━━━━━━━\u001b[0m\u001b[37m\u001b[0m \u001b[1m20s\u001b[0m 700ms/step - accuracy: 0.6639 - loss: 0.8364 - val_accuracy: 0.5786 - val_loss: 1.0451\n",
            "Epoch 121/250\n",
            "\u001b[1m29/29\u001b[0m \u001b[32m━━━━━━━━━━━━━━━━━━━━\u001b[0m\u001b[37m\u001b[0m \u001b[1m20s\u001b[0m 698ms/step - accuracy: 0.6708 - loss: 0.8327 - val_accuracy: 0.4716 - val_loss: 1.2857\n",
            "Epoch 122/250\n",
            "\u001b[1m29/29\u001b[0m \u001b[32m━━━━━━━━━━━━━━━━━━━━\u001b[0m\u001b[37m\u001b[0m \u001b[1m19s\u001b[0m 663ms/step - accuracy: 0.6114 - loss: 0.8920 - val_accuracy: 0.3846 - val_loss: 2.0075\n",
            "Epoch 123/250\n",
            "\u001b[1m29/29\u001b[0m \u001b[32m━━━━━━━━━━━━━━━━━━━━\u001b[0m\u001b[37m\u001b[0m \u001b[1m20s\u001b[0m 675ms/step - accuracy: 0.6118 - loss: 0.8785 - val_accuracy: 0.5853 - val_loss: 1.0529\n",
            "Epoch 124/250\n",
            "\u001b[1m29/29\u001b[0m \u001b[32m━━━━━━━━━━━━━━━━━━━━\u001b[0m\u001b[37m\u001b[0m \u001b[1m20s\u001b[0m 663ms/step - accuracy: 0.6249 - loss: 0.8678 - val_accuracy: 0.5418 - val_loss: 1.0428\n",
            "Epoch 125/250\n",
            "\u001b[1m29/29\u001b[0m \u001b[32m━━━━━━━━━━━━━━━━━━━━\u001b[0m\u001b[37m\u001b[0m \u001b[1m19s\u001b[0m 654ms/step - accuracy: 0.6512 - loss: 0.7989 - val_accuracy: 0.5184 - val_loss: 1.2381\n",
            "Epoch 126/250\n",
            "\u001b[1m29/29\u001b[0m \u001b[32m━━━━━━━━━━━━━━━━━━━━\u001b[0m\u001b[37m\u001b[0m \u001b[1m20s\u001b[0m 670ms/step - accuracy: 0.6146 - loss: 0.8417 - val_accuracy: 0.5853 - val_loss: 1.0752\n",
            "Epoch 127/250\n",
            "\u001b[1m29/29\u001b[0m \u001b[32m━━━━━━━━━━━━━━━━━━━━\u001b[0m\u001b[37m\u001b[0m \u001b[1m19s\u001b[0m 662ms/step - accuracy: 0.6293 - loss: 0.8692 - val_accuracy: 0.6120 - val_loss: 0.9449\n",
            "Epoch 128/250\n",
            "\u001b[1m29/29\u001b[0m \u001b[32m━━━━━━━━━━━━━━━━━━━━\u001b[0m\u001b[37m\u001b[0m \u001b[1m20s\u001b[0m 728ms/step - accuracy: 0.6358 - loss: 0.8672 - val_accuracy: 0.4883 - val_loss: 1.4354\n",
            "Epoch 129/250\n",
            "\u001b[1m29/29\u001b[0m \u001b[32m━━━━━━━━━━━━━━━━━━━━\u001b[0m\u001b[37m\u001b[0m \u001b[1m19s\u001b[0m 657ms/step - accuracy: 0.6074 - loss: 0.8445 - val_accuracy: 0.5552 - val_loss: 0.9657\n",
            "Epoch 130/250\n",
            "\u001b[1m29/29\u001b[0m \u001b[32m━━━━━━━━━━━━━━━━━━━━\u001b[0m\u001b[37m\u001b[0m \u001b[1m20s\u001b[0m 699ms/step - accuracy: 0.6537 - loss: 0.8387 - val_accuracy: 0.3244 - val_loss: 2.9010\n",
            "Epoch 131/250\n",
            "\u001b[1m29/29\u001b[0m \u001b[32m━━━━━━━━━━━━━━━━━━━━\u001b[0m\u001b[37m\u001b[0m \u001b[1m19s\u001b[0m 658ms/step - accuracy: 0.6241 - loss: 0.8653 - val_accuracy: 0.3813 - val_loss: 1.6532\n",
            "Epoch 132/250\n",
            "\u001b[1m29/29\u001b[0m \u001b[32m━━━━━━━━━━━━━━━━━━━━\u001b[0m\u001b[37m\u001b[0m \u001b[1m20s\u001b[0m 679ms/step - accuracy: 0.6274 - loss: 0.8461 - val_accuracy: 0.6087 - val_loss: 0.8468\n",
            "Epoch 133/250\n",
            "\u001b[1m29/29\u001b[0m \u001b[32m━━━━━━━━━━━━━━━━━━━━\u001b[0m\u001b[37m\u001b[0m \u001b[1m0s\u001b[0m 621ms/step - accuracy: 0.6372 - loss: 0.8257"
          ]
        },
        {
          "output_type": "stream",
          "name": "stderr",
          "text": [
            "WARNING:absl:You are saving your model as an HDF5 file via `model.save()` or `keras.saving.save_model(model)`. This file format is considered legacy. We recommend using instead the native Keras format, e.g. `model.save('my_model.keras')` or `keras.saving.save_model(model, 'my_model.keras')`. \n"
          ]
        },
        {
          "output_type": "stream",
          "name": "stdout",
          "text": [
            "\b\b\b\b\b\b\b\b\b\b\b\b\b\b\b\b\b\b\b\b\b\b\b\b\b\b\b\b\b\b\b\b\b\b\b\b\b\b\b\b\b\b\b\b\b\b\b\b\b\b\b\b\b\b\b\b\b\b\b\b\b\b\b\b\b\b\b\b\b\b\b\b\b\b\r\u001b[1m29/29\u001b[0m \u001b[32m━━━━━━━━━━━━━━━━━━━━\u001b[0m\u001b[37m\u001b[0m \u001b[1m20s\u001b[0m 686ms/step - accuracy: 0.6373 - loss: 0.8254 - val_accuracy: 0.6990 - val_loss: 0.8225\n",
            "Epoch 134/250\n",
            "\u001b[1m29/29\u001b[0m \u001b[32m━━━━━━━━━━━━━━━━━━━━\u001b[0m\u001b[37m\u001b[0m \u001b[1m20s\u001b[0m 672ms/step - accuracy: 0.6554 - loss: 0.8195 - val_accuracy: 0.6522 - val_loss: 0.9261\n",
            "Epoch 135/250\n",
            "\u001b[1m29/29\u001b[0m \u001b[32m━━━━━━━━━━━━━━━━━━━━\u001b[0m\u001b[37m\u001b[0m \u001b[1m20s\u001b[0m 655ms/step - accuracy: 0.6409 - loss: 0.8160 - val_accuracy: 0.5418 - val_loss: 1.3976\n",
            "Epoch 136/250\n",
            "\u001b[1m29/29\u001b[0m \u001b[32m━━━━━━━━━━━━━━━━━━━━\u001b[0m\u001b[37m\u001b[0m \u001b[1m20s\u001b[0m 677ms/step - accuracy: 0.6715 - loss: 0.7965 - val_accuracy: 0.5552 - val_loss: 1.3435\n",
            "Epoch 137/250\n",
            "\u001b[1m29/29\u001b[0m \u001b[32m━━━━━━━━━━━━━━━━━━━━\u001b[0m\u001b[37m\u001b[0m \u001b[1m20s\u001b[0m 665ms/step - accuracy: 0.6469 - loss: 0.8104 - val_accuracy: 0.6087 - val_loss: 0.8634\n",
            "Epoch 138/250\n",
            "\u001b[1m29/29\u001b[0m \u001b[32m━━━━━━━━━━━━━━━━━━━━\u001b[0m\u001b[37m\u001b[0m \u001b[1m19s\u001b[0m 671ms/step - accuracy: 0.6528 - loss: 0.8135 - val_accuracy: 0.5953 - val_loss: 0.9328\n",
            "Epoch 139/250\n",
            "\u001b[1m29/29\u001b[0m \u001b[32m━━━━━━━━━━━━━━━━━━━━\u001b[0m\u001b[37m\u001b[0m \u001b[1m21s\u001b[0m 682ms/step - accuracy: 0.6260 - loss: 0.8433 - val_accuracy: 0.3244 - val_loss: 2.8199\n",
            "Epoch 140/250\n",
            "\u001b[1m29/29\u001b[0m \u001b[32m━━━━━━━━━━━━━━━━━━━━\u001b[0m\u001b[37m\u001b[0m \u001b[1m20s\u001b[0m 694ms/step - accuracy: 0.6397 - loss: 0.8303 - val_accuracy: 0.4615 - val_loss: 1.6353\n",
            "Epoch 141/250\n",
            "\u001b[1m29/29\u001b[0m \u001b[32m━━━━━━━━━━━━━━━━━━━━\u001b[0m\u001b[37m\u001b[0m \u001b[1m20s\u001b[0m 685ms/step - accuracy: 0.6288 - loss: 0.8631 - val_accuracy: 0.5452 - val_loss: 1.1142\n",
            "Epoch 142/250\n",
            "\u001b[1m29/29\u001b[0m \u001b[32m━━━━━━━━━━━━━━━━━━━━\u001b[0m\u001b[37m\u001b[0m \u001b[1m20s\u001b[0m 687ms/step - accuracy: 0.6421 - loss: 0.8670 - val_accuracy: 0.6254 - val_loss: 0.8683\n",
            "Epoch 143/250\n",
            "\u001b[1m29/29\u001b[0m \u001b[32m━━━━━━━━━━━━━━━━━━━━\u001b[0m\u001b[37m\u001b[0m \u001b[1m21s\u001b[0m 686ms/step - accuracy: 0.6331 - loss: 0.8301 - val_accuracy: 0.5652 - val_loss: 1.0885\n",
            "Epoch 144/250\n",
            "\u001b[1m29/29\u001b[0m \u001b[32m━━━━━━━━━━━━━━━━━━━━\u001b[0m\u001b[37m\u001b[0m \u001b[1m20s\u001b[0m 673ms/step - accuracy: 0.6290 - loss: 0.8624 - val_accuracy: 0.5819 - val_loss: 1.2341\n",
            "Epoch 145/250\n",
            "\u001b[1m29/29\u001b[0m \u001b[32m━━━━━━━━━━━━━━━━━━━━\u001b[0m\u001b[37m\u001b[0m \u001b[1m20s\u001b[0m 680ms/step - accuracy: 0.6522 - loss: 0.8121 - val_accuracy: 0.5050 - val_loss: 1.3548\n",
            "Epoch 146/250\n",
            "\u001b[1m29/29\u001b[0m \u001b[32m━━━━━━━━━━━━━━━━━━━━\u001b[0m\u001b[37m\u001b[0m \u001b[1m19s\u001b[0m 662ms/step - accuracy: 0.6498 - loss: 0.7939 - val_accuracy: 0.5117 - val_loss: 1.2202\n",
            "Epoch 147/250\n",
            "\u001b[1m29/29\u001b[0m \u001b[32m━━━━━━━━━━━━━━━━━━━━\u001b[0m\u001b[37m\u001b[0m \u001b[1m20s\u001b[0m 697ms/step - accuracy: 0.6552 - loss: 0.7831 - val_accuracy: 0.3211 - val_loss: 4.1801\n",
            "Epoch 148/250\n",
            "\u001b[1m29/29\u001b[0m \u001b[32m━━━━━━━━━━━━━━━━━━━━\u001b[0m\u001b[37m\u001b[0m \u001b[1m19s\u001b[0m 670ms/step - accuracy: 0.6491 - loss: 0.8290 - val_accuracy: 0.3311 - val_loss: 2.2494\n",
            "Epoch 149/250\n",
            "\u001b[1m29/29\u001b[0m \u001b[32m━━━━━━━━━━━━━━━━━━━━\u001b[0m\u001b[37m\u001b[0m \u001b[1m20s\u001b[0m 688ms/step - accuracy: 0.6306 - loss: 0.8592 - val_accuracy: 0.4147 - val_loss: 1.5532\n",
            "Epoch 150/250\n",
            "\u001b[1m29/29\u001b[0m \u001b[32m━━━━━━━━━━━━━━━━━━━━\u001b[0m\u001b[37m\u001b[0m \u001b[1m19s\u001b[0m 684ms/step - accuracy: 0.6296 - loss: 0.8926 - val_accuracy: 0.4582 - val_loss: 1.7860\n",
            "Epoch 151/250\n",
            "\u001b[1m29/29\u001b[0m \u001b[32m━━━━━━━━━━━━━━━━━━━━\u001b[0m\u001b[37m\u001b[0m \u001b[1m20s\u001b[0m 677ms/step - accuracy: 0.6560 - loss: 0.8157 - val_accuracy: 0.3980 - val_loss: 1.7684\n",
            "Epoch 152/250\n",
            "\u001b[1m29/29\u001b[0m \u001b[32m━━━━━━━━━━━━━━━━━━━━\u001b[0m\u001b[37m\u001b[0m \u001b[1m20s\u001b[0m 656ms/step - accuracy: 0.6613 - loss: 0.7994 - val_accuracy: 0.5987 - val_loss: 1.1985\n",
            "Epoch 153/250\n",
            "\u001b[1m29/29\u001b[0m \u001b[32m━━━━━━━━━━━━━━━━━━━━\u001b[0m\u001b[37m\u001b[0m \u001b[1m19s\u001b[0m 667ms/step - accuracy: 0.6511 - loss: 0.8296 - val_accuracy: 0.5953 - val_loss: 0.9942\n",
            "Epoch 154/250\n",
            "\u001b[1m29/29\u001b[0m \u001b[32m━━━━━━━━━━━━━━━━━━━━\u001b[0m\u001b[37m\u001b[0m \u001b[1m20s\u001b[0m 655ms/step - accuracy: 0.6532 - loss: 0.8017 - val_accuracy: 0.4013 - val_loss: 2.9896\n",
            "Epoch 155/250\n",
            "\u001b[1m29/29\u001b[0m \u001b[32m━━━━━━━━━━━━━━━━━━━━\u001b[0m\u001b[37m\u001b[0m \u001b[1m20s\u001b[0m 680ms/step - accuracy: 0.6324 - loss: 0.8189 - val_accuracy: 0.5886 - val_loss: 1.0902\n",
            "Epoch 156/250\n",
            "\u001b[1m29/29\u001b[0m \u001b[32m━━━━━━━━━━━━━━━━━━━━\u001b[0m\u001b[37m\u001b[0m \u001b[1m20s\u001b[0m 661ms/step - accuracy: 0.6355 - loss: 0.8579 - val_accuracy: 0.4247 - val_loss: 2.0321\n",
            "Epoch 157/250\n",
            "\u001b[1m29/29\u001b[0m \u001b[32m━━━━━━━━━━━━━━━━━━━━\u001b[0m\u001b[37m\u001b[0m \u001b[1m19s\u001b[0m 659ms/step - accuracy: 0.6586 - loss: 0.8115 - val_accuracy: 0.5953 - val_loss: 1.2312\n",
            "Epoch 158/250\n",
            "\u001b[1m29/29\u001b[0m \u001b[32m━━━━━━━━━━━━━━━━━━━━\u001b[0m\u001b[37m\u001b[0m \u001b[1m21s\u001b[0m 658ms/step - accuracy: 0.6405 - loss: 0.8486 - val_accuracy: 0.4348 - val_loss: 1.5020\n",
            "Epoch 159/250\n",
            "\u001b[1m29/29\u001b[0m \u001b[32m━━━━━━━━━━━━━━━━━━━━\u001b[0m\u001b[37m\u001b[0m \u001b[1m19s\u001b[0m 668ms/step - accuracy: 0.6209 - loss: 0.8307 - val_accuracy: 0.3746 - val_loss: 1.6470\n",
            "Epoch 160/250\n",
            "\u001b[1m29/29\u001b[0m \u001b[32m━━━━━━━━━━━━━━━━━━━━\u001b[0m\u001b[37m\u001b[0m \u001b[1m20s\u001b[0m 669ms/step - accuracy: 0.6398 - loss: 0.8420 - val_accuracy: 0.4314 - val_loss: 1.6818\n",
            "Epoch 161/250\n",
            "\u001b[1m29/29\u001b[0m \u001b[32m━━━━━━━━━━━━━━━━━━━━\u001b[0m\u001b[37m\u001b[0m \u001b[1m19s\u001b[0m 659ms/step - accuracy: 0.6436 - loss: 0.8380 - val_accuracy: 0.3579 - val_loss: 2.1493\n",
            "Epoch 162/250\n",
            "\u001b[1m29/29\u001b[0m \u001b[32m━━━━━━━━━━━━━━━━━━━━\u001b[0m\u001b[37m\u001b[0m \u001b[1m20s\u001b[0m 700ms/step - accuracy: 0.6613 - loss: 0.8062 - val_accuracy: 0.6154 - val_loss: 0.8966\n",
            "Epoch 163/250\n",
            "\u001b[1m29/29\u001b[0m \u001b[32m━━━━━━━━━━━━━━━━━━━━\u001b[0m\u001b[37m\u001b[0m \u001b[1m19s\u001b[0m 652ms/step - accuracy: 0.6601 - loss: 0.8038 - val_accuracy: 0.4281 - val_loss: 2.5449\n",
            "Epoch 164/250\n",
            "\u001b[1m29/29\u001b[0m \u001b[32m━━━━━━━━━━━━━━━━━━━━\u001b[0m\u001b[37m\u001b[0m \u001b[1m20s\u001b[0m 718ms/step - accuracy: 0.6483 - loss: 0.8040 - val_accuracy: 0.5518 - val_loss: 1.2716\n",
            "Epoch 165/250\n",
            "\u001b[1m29/29\u001b[0m \u001b[32m━━━━━━━━━━━━━━━━━━━━\u001b[0m\u001b[37m\u001b[0m \u001b[1m19s\u001b[0m 666ms/step - accuracy: 0.6421 - loss: 0.8331 - val_accuracy: 0.3010 - val_loss: 2.4853\n",
            "Epoch 166/250\n",
            "\u001b[1m29/29\u001b[0m \u001b[32m━━━━━━━━━━━━━━━━━━━━\u001b[0m\u001b[37m\u001b[0m \u001b[1m20s\u001b[0m 684ms/step - accuracy: 0.6486 - loss: 0.8323 - val_accuracy: 0.4214 - val_loss: 2.4315\n",
            "Epoch 167/250\n",
            "\u001b[1m29/29\u001b[0m \u001b[32m━━━━━━━━━━━━━━━━━━━━\u001b[0m\u001b[37m\u001b[0m \u001b[1m20s\u001b[0m 671ms/step - accuracy: 0.6444 - loss: 0.8192 - val_accuracy: 0.5886 - val_loss: 1.2248\n",
            "Epoch 168/250\n",
            "\u001b[1m29/29\u001b[0m \u001b[32m━━━━━━━━━━━━━━━━━━━━\u001b[0m\u001b[37m\u001b[0m \u001b[1m20s\u001b[0m 676ms/step - accuracy: 0.6564 - loss: 0.7963 - val_accuracy: 0.5452 - val_loss: 1.3866\n",
            "Epoch 169/250\n",
            "\u001b[1m29/29\u001b[0m \u001b[32m━━━━━━━━━━━━━━━━━━━━\u001b[0m\u001b[37m\u001b[0m \u001b[1m20s\u001b[0m 671ms/step - accuracy: 0.6538 - loss: 0.7890 - val_accuracy: 0.3880 - val_loss: 2.0423\n",
            "Epoch 170/250\n",
            "\u001b[1m29/29\u001b[0m \u001b[32m━━━━━━━━━━━━━━━━━━━━\u001b[0m\u001b[37m\u001b[0m \u001b[1m19s\u001b[0m 653ms/step - accuracy: 0.6403 - loss: 0.8047 - val_accuracy: 0.5886 - val_loss: 1.2703\n",
            "Epoch 171/250\n",
            "\u001b[1m29/29\u001b[0m \u001b[32m━━━━━━━━━━━━━━━━━━━━\u001b[0m\u001b[37m\u001b[0m \u001b[1m20s\u001b[0m 696ms/step - accuracy: 0.6642 - loss: 0.8056 - val_accuracy: 0.5485 - val_loss: 1.1816\n",
            "Epoch 172/250\n",
            "\u001b[1m29/29\u001b[0m \u001b[32m━━━━━━━━━━━━━━━━━━━━\u001b[0m\u001b[37m\u001b[0m \u001b[1m20s\u001b[0m 663ms/step - accuracy: 0.6582 - loss: 0.7958 - val_accuracy: 0.3980 - val_loss: 2.4336\n",
            "Epoch 173/250\n",
            "\u001b[1m29/29\u001b[0m \u001b[32m━━━━━━━━━━━━━━━━━━━━\u001b[0m\u001b[37m\u001b[0m \u001b[1m20s\u001b[0m 697ms/step - accuracy: 0.6450 - loss: 0.8033 - val_accuracy: 0.4783 - val_loss: 1.6012\n",
            "Epoch 174/250\n",
            "\u001b[1m29/29\u001b[0m \u001b[32m━━━━━━━━━━━━━━━━━━━━\u001b[0m\u001b[37m\u001b[0m \u001b[1m19s\u001b[0m 654ms/step - accuracy: 0.6486 - loss: 0.7829 - val_accuracy: 0.4950 - val_loss: 1.4652\n",
            "Epoch 175/250\n",
            "\u001b[1m29/29\u001b[0m \u001b[32m━━━━━━━━━━━━━━━━━━━━\u001b[0m\u001b[37m\u001b[0m \u001b[1m20s\u001b[0m 699ms/step - accuracy: 0.6738 - loss: 0.7817 - val_accuracy: 0.2977 - val_loss: 3.3130\n",
            "Epoch 176/250\n",
            "\u001b[1m29/29\u001b[0m \u001b[32m━━━━━━━━━━━━━━━━━━━━\u001b[0m\u001b[37m\u001b[0m \u001b[1m19s\u001b[0m 667ms/step - accuracy: 0.6659 - loss: 0.7790 - val_accuracy: 0.6421 - val_loss: 0.9672\n",
            "Epoch 177/250\n",
            "\u001b[1m29/29\u001b[0m \u001b[32m━━━━━━━━━━━━━━━━━━━━\u001b[0m\u001b[37m\u001b[0m \u001b[1m20s\u001b[0m 673ms/step - accuracy: 0.6369 - loss: 0.8270 - val_accuracy: 0.4147 - val_loss: 1.7862\n",
            "Epoch 178/250\n",
            "\u001b[1m29/29\u001b[0m \u001b[32m━━━━━━━━━━━━━━━━━━━━\u001b[0m\u001b[37m\u001b[0m \u001b[1m20s\u001b[0m 663ms/step - accuracy: 0.6490 - loss: 0.8043 - val_accuracy: 0.5853 - val_loss: 1.3145\n",
            "Epoch 179/250\n",
            "\u001b[1m29/29\u001b[0m \u001b[32m━━━━━━━━━━━━━━━━━━━━\u001b[0m\u001b[37m\u001b[0m \u001b[1m0s\u001b[0m 622ms/step - accuracy: 0.6493 - loss: 0.7931"
          ]
        },
        {
          "output_type": "stream",
          "name": "stderr",
          "text": [
            "WARNING:absl:You are saving your model as an HDF5 file via `model.save()` or `keras.saving.save_model(model)`. This file format is considered legacy. We recommend using instead the native Keras format, e.g. `model.save('my_model.keras')` or `keras.saving.save_model(model, 'my_model.keras')`. \n"
          ]
        },
        {
          "output_type": "stream",
          "name": "stdout",
          "text": [
            "\b\b\b\b\b\b\b\b\b\b\b\b\b\b\b\b\b\b\b\b\b\b\b\b\b\b\b\b\b\b\b\b\b\b\b\b\b\b\b\b\b\b\b\b\b\b\b\b\b\b\b\b\b\b\b\b\b\b\b\b\b\b\b\b\b\b\b\b\b\b\b\b\b\b\r\u001b[1m29/29\u001b[0m \u001b[32m━━━━━━━━━━━━━━━━━━━━\u001b[0m\u001b[37m\u001b[0m \u001b[1m20s\u001b[0m 687ms/step - accuracy: 0.6493 - loss: 0.7926 - val_accuracy: 0.7258 - val_loss: 0.8056\n",
            "Epoch 180/250\n",
            "\u001b[1m29/29\u001b[0m \u001b[32m━━━━━━━━━━━━━━━━━━━━\u001b[0m\u001b[37m\u001b[0m \u001b[1m20s\u001b[0m 676ms/step - accuracy: 0.6439 - loss: 0.8024 - val_accuracy: 0.5619 - val_loss: 1.1276\n",
            "Epoch 181/250\n",
            "\u001b[1m29/29\u001b[0m \u001b[32m━━━━━━━━━━━━━━━━━━━━\u001b[0m\u001b[37m\u001b[0m \u001b[1m19s\u001b[0m 649ms/step - accuracy: 0.6368 - loss: 0.8081 - val_accuracy: 0.5920 - val_loss: 0.9589\n",
            "Epoch 182/250\n",
            "\u001b[1m29/29\u001b[0m \u001b[32m━━━━━━━━━━━━━━━━━━━━\u001b[0m\u001b[37m\u001b[0m \u001b[1m20s\u001b[0m 694ms/step - accuracy: 0.6479 - loss: 0.8232 - val_accuracy: 0.5585 - val_loss: 1.1060\n",
            "Epoch 183/250\n",
            "\u001b[1m29/29\u001b[0m \u001b[32m━━━━━━━━━━━━━━━━━━━━\u001b[0m\u001b[37m\u001b[0m \u001b[1m19s\u001b[0m 667ms/step - accuracy: 0.6085 - loss: 0.8485 - val_accuracy: 0.4883 - val_loss: 1.5669\n",
            "Epoch 184/250\n",
            "\u001b[1m29/29\u001b[0m \u001b[32m━━━━━━━━━━━━━━━━━━━━\u001b[0m\u001b[37m\u001b[0m \u001b[1m20s\u001b[0m 689ms/step - accuracy: 0.6471 - loss: 0.8051 - val_accuracy: 0.5987 - val_loss: 0.9712\n",
            "Epoch 185/250\n",
            "\u001b[1m29/29\u001b[0m \u001b[32m━━━━━━━━━━━━━━━━━━━━\u001b[0m\u001b[37m\u001b[0m \u001b[1m19s\u001b[0m 665ms/step - accuracy: 0.6533 - loss: 0.7965 - val_accuracy: 0.5318 - val_loss: 1.5197\n",
            "Epoch 186/250\n",
            "\u001b[1m29/29\u001b[0m \u001b[32m━━━━━━━━━━━━━━━━━━━━\u001b[0m\u001b[37m\u001b[0m \u001b[1m19s\u001b[0m 666ms/step - accuracy: 0.6824 - loss: 0.7730 - val_accuracy: 0.7157 - val_loss: 0.8071\n",
            "Epoch 187/250\n",
            "\u001b[1m29/29\u001b[0m \u001b[32m━━━━━━━━━━━━━━━━━━━━\u001b[0m\u001b[37m\u001b[0m \u001b[1m20s\u001b[0m 660ms/step - accuracy: 0.6659 - loss: 0.7728 - val_accuracy: 0.6355 - val_loss: 0.9235\n",
            "Epoch 188/250\n",
            "\u001b[1m29/29\u001b[0m \u001b[32m━━━━━━━━━━━━━━━━━━━━\u001b[0m\u001b[37m\u001b[0m \u001b[1m19s\u001b[0m 664ms/step - accuracy: 0.6660 - loss: 0.7787 - val_accuracy: 0.5318 - val_loss: 1.2721\n",
            "Epoch 189/250\n",
            "\u001b[1m29/29\u001b[0m \u001b[32m━━━━━━━━━━━━━━━━━━━━\u001b[0m\u001b[37m\u001b[0m \u001b[1m20s\u001b[0m 680ms/step - accuracy: 0.6340 - loss: 0.8254 - val_accuracy: 0.4849 - val_loss: 1.5553\n",
            "Epoch 190/250\n",
            "\u001b[1m29/29\u001b[0m \u001b[32m━━━━━━━━━━━━━━━━━━━━\u001b[0m\u001b[37m\u001b[0m \u001b[1m19s\u001b[0m 650ms/step - accuracy: 0.6565 - loss: 0.7995 - val_accuracy: 0.6388 - val_loss: 0.8346\n",
            "Epoch 191/250\n",
            "\u001b[1m29/29\u001b[0m \u001b[32m━━━━━━━━━━━━━━━━━━━━\u001b[0m\u001b[37m\u001b[0m \u001b[1m20s\u001b[0m 689ms/step - accuracy: 0.6427 - loss: 0.7855 - val_accuracy: 0.6455 - val_loss: 0.8823\n",
            "Epoch 192/250\n",
            "\u001b[1m29/29\u001b[0m \u001b[32m━━━━━━━━━━━━━━━━━━━━\u001b[0m\u001b[37m\u001b[0m \u001b[1m19s\u001b[0m 651ms/step - accuracy: 0.6726 - loss: 0.7360 - val_accuracy: 0.6589 - val_loss: 0.9011\n",
            "Epoch 193/250\n",
            "\u001b[1m29/29\u001b[0m \u001b[32m━━━━━━━━━━━━━━━━━━━━\u001b[0m\u001b[37m\u001b[0m \u001b[1m20s\u001b[0m 692ms/step - accuracy: 0.6616 - loss: 0.7742 - val_accuracy: 0.6355 - val_loss: 0.8336\n",
            "Epoch 194/250\n",
            "\u001b[1m29/29\u001b[0m \u001b[32m━━━━━━━━━━━━━━━━━━━━\u001b[0m\u001b[37m\u001b[0m \u001b[1m19s\u001b[0m 651ms/step - accuracy: 0.6533 - loss: 0.7784 - val_accuracy: 0.6355 - val_loss: 0.9711\n",
            "Epoch 195/250\n",
            "\u001b[1m29/29\u001b[0m \u001b[32m━━━━━━━━━━━━━━━━━━━━\u001b[0m\u001b[37m\u001b[0m \u001b[1m19s\u001b[0m 662ms/step - accuracy: 0.6493 - loss: 0.8038 - val_accuracy: 0.6120 - val_loss: 1.0398\n",
            "Epoch 196/250\n",
            "\u001b[1m29/29\u001b[0m \u001b[32m━━━━━━━━━━━━━━━━━━━━\u001b[0m\u001b[37m\u001b[0m \u001b[1m20s\u001b[0m 655ms/step - accuracy: 0.6357 - loss: 0.8008 - val_accuracy: 0.6187 - val_loss: 1.0338\n",
            "Epoch 197/250\n",
            "\u001b[1m29/29\u001b[0m \u001b[32m━━━━━━━━━━━━━━━━━━━━\u001b[0m\u001b[37m\u001b[0m \u001b[1m20s\u001b[0m 673ms/step - accuracy: 0.6714 - loss: 0.7763 - val_accuracy: 0.7023 - val_loss: 0.8521\n",
            "Epoch 198/250\n",
            "\u001b[1m29/29\u001b[0m \u001b[32m━━━━━━━━━━━━━━━━━━━━\u001b[0m\u001b[37m\u001b[0m \u001b[1m20s\u001b[0m 675ms/step - accuracy: 0.6542 - loss: 0.7950 - val_accuracy: 0.3545 - val_loss: 2.6773\n",
            "Epoch 199/250\n",
            "\u001b[1m29/29\u001b[0m \u001b[32m━━━━━━━━━━━━━━━━━━━━\u001b[0m\u001b[37m\u001b[0m \u001b[1m20s\u001b[0m 691ms/step - accuracy: 0.6624 - loss: 0.8009 - val_accuracy: 0.5284 - val_loss: 1.3435\n",
            "Epoch 200/250\n",
            "\u001b[1m29/29\u001b[0m \u001b[32m━━━━━━━━━━━━━━━━━━━━\u001b[0m\u001b[37m\u001b[0m \u001b[1m20s\u001b[0m 681ms/step - accuracy: 0.6669 - loss: 0.7848 - val_accuracy: 0.5184 - val_loss: 1.8664\n",
            "Epoch 201/250\n",
            "\u001b[1m29/29\u001b[0m \u001b[32m━━━━━━━━━━━━━━━━━━━━\u001b[0m\u001b[37m\u001b[0m \u001b[1m19s\u001b[0m 656ms/step - accuracy: 0.6702 - loss: 0.7613 - val_accuracy: 0.4883 - val_loss: 1.6033\n",
            "Epoch 202/250\n",
            "\u001b[1m29/29\u001b[0m \u001b[32m━━━━━━━━━━━━━━━━━━━━\u001b[0m\u001b[37m\u001b[0m \u001b[1m20s\u001b[0m 704ms/step - accuracy: 0.6286 - loss: 0.8140 - val_accuracy: 0.4247 - val_loss: 2.1440\n",
            "Epoch 203/250\n",
            "\u001b[1m29/29\u001b[0m \u001b[32m━━━━━━━━━━━━━━━━━━━━\u001b[0m\u001b[37m\u001b[0m \u001b[1m19s\u001b[0m 650ms/step - accuracy: 0.6813 - loss: 0.7599 - val_accuracy: 0.3913 - val_loss: 2.2373\n",
            "Epoch 204/250\n",
            "\u001b[1m29/29\u001b[0m \u001b[32m━━━━━━━━━━━━━━━━━━━━\u001b[0m\u001b[37m\u001b[0m \u001b[1m20s\u001b[0m 688ms/step - accuracy: 0.6445 - loss: 0.8256 - val_accuracy: 0.4950 - val_loss: 1.2703\n",
            "Epoch 205/250\n",
            "\u001b[1m29/29\u001b[0m \u001b[32m━━━━━━━━━━━━━━━━━━━━\u001b[0m\u001b[37m\u001b[0m \u001b[1m19s\u001b[0m 664ms/step - accuracy: 0.6585 - loss: 0.7690 - val_accuracy: 0.3411 - val_loss: 3.2064\n",
            "Epoch 206/250\n",
            "\u001b[1m29/29\u001b[0m \u001b[32m━━━━━━━━━━━━━━━━━━━━\u001b[0m\u001b[37m\u001b[0m \u001b[1m19s\u001b[0m 669ms/step - accuracy: 0.6420 - loss: 0.8049 - val_accuracy: 0.4849 - val_loss: 1.4414\n",
            "Epoch 207/250\n",
            "\u001b[1m29/29\u001b[0m \u001b[32m━━━━━━━━━━━━━━━━━━━━\u001b[0m\u001b[37m\u001b[0m \u001b[1m20s\u001b[0m 663ms/step - accuracy: 0.6613 - loss: 0.7944 - val_accuracy: 0.6254 - val_loss: 1.0957\n",
            "Epoch 208/250\n",
            "\u001b[1m29/29\u001b[0m \u001b[32m━━━━━━━━━━━━━━━━━━━━\u001b[0m\u001b[37m\u001b[0m \u001b[1m20s\u001b[0m 685ms/step - accuracy: 0.6509 - loss: 0.8228 - val_accuracy: 0.3846 - val_loss: 2.3891\n",
            "Epoch 209/250\n",
            "\u001b[1m29/29\u001b[0m \u001b[32m━━━━━━━━━━━━━━━━━━━━\u001b[0m\u001b[37m\u001b[0m \u001b[1m20s\u001b[0m 667ms/step - accuracy: 0.6175 - loss: 0.8440 - val_accuracy: 0.4482 - val_loss: 1.6859\n",
            "Epoch 210/250\n",
            "\u001b[1m29/29\u001b[0m \u001b[32m━━━━━━━━━━━━━━━━━━━━\u001b[0m\u001b[37m\u001b[0m \u001b[1m19s\u001b[0m 663ms/step - accuracy: 0.6472 - loss: 0.8339 - val_accuracy: 0.6990 - val_loss: 0.8313\n",
            "Epoch 211/250\n",
            "\u001b[1m29/29\u001b[0m \u001b[32m━━━━━━━━━━━━━━━━━━━━\u001b[0m\u001b[37m\u001b[0m \u001b[1m20s\u001b[0m 680ms/step - accuracy: 0.6601 - loss: 0.7961 - val_accuracy: 0.6722 - val_loss: 0.8858\n",
            "Epoch 212/250\n",
            "\u001b[1m29/29\u001b[0m \u001b[32m━━━━━━━━━━━━━━━━━━━━\u001b[0m\u001b[37m\u001b[0m \u001b[1m19s\u001b[0m 663ms/step - accuracy: 0.6527 - loss: 0.8134 - val_accuracy: 0.4247 - val_loss: 2.0212\n",
            "Epoch 213/250\n",
            "\u001b[1m29/29\u001b[0m \u001b[32m━━━━━━━━━━━━━━━━━━━━\u001b[0m\u001b[37m\u001b[0m \u001b[1m21s\u001b[0m 676ms/step - accuracy: 0.6525 - loss: 0.8348 - val_accuracy: 0.5485 - val_loss: 1.2013\n",
            "Epoch 214/250\n",
            "\u001b[1m29/29\u001b[0m \u001b[32m━━━━━━━━━━━━━━━━━━━━\u001b[0m\u001b[37m\u001b[0m \u001b[1m19s\u001b[0m 650ms/step - accuracy: 0.6712 - loss: 0.7839 - val_accuracy: 0.5117 - val_loss: 1.3825\n",
            "Epoch 215/250\n",
            "\u001b[1m29/29\u001b[0m \u001b[32m━━━━━━━━━━━━━━━━━━━━\u001b[0m\u001b[37m\u001b[0m \u001b[1m20s\u001b[0m 704ms/step - accuracy: 0.6480 - loss: 0.8219 - val_accuracy: 0.6054 - val_loss: 1.0883\n",
            "Epoch 216/250\n",
            "\u001b[1m29/29\u001b[0m \u001b[32m━━━━━━━━━━━━━━━━━━━━\u001b[0m\u001b[37m\u001b[0m \u001b[1m19s\u001b[0m 665ms/step - accuracy: 0.6667 - loss: 0.7828 - val_accuracy: 0.5117 - val_loss: 1.4143\n",
            "Epoch 217/250\n",
            "\u001b[1m29/29\u001b[0m \u001b[32m━━━━━━━━━━━━━━━━━━━━\u001b[0m\u001b[37m\u001b[0m \u001b[1m20s\u001b[0m 693ms/step - accuracy: 0.6516 - loss: 0.8106 - val_accuracy: 0.5485 - val_loss: 1.0245\n",
            "Epoch 218/250\n",
            "\u001b[1m29/29\u001b[0m \u001b[32m━━━━━━━━━━━━━━━━━━━━\u001b[0m\u001b[37m\u001b[0m \u001b[1m19s\u001b[0m 660ms/step - accuracy: 0.6669 - loss: 0.7730 - val_accuracy: 0.6789 - val_loss: 0.7959\n",
            "Epoch 219/250\n",
            "\u001b[1m29/29\u001b[0m \u001b[32m━━━━━━━━━━━━━━━━━━━━\u001b[0m\u001b[37m\u001b[0m \u001b[1m19s\u001b[0m 669ms/step - accuracy: 0.6791 - loss: 0.7518 - val_accuracy: 0.3846 - val_loss: 3.3340\n",
            "Epoch 220/250\n",
            "\u001b[1m29/29\u001b[0m \u001b[32m━━━━━━━━━━━━━━━━━━━━\u001b[0m\u001b[37m\u001b[0m \u001b[1m20s\u001b[0m 665ms/step - accuracy: 0.6648 - loss: 0.8105 - val_accuracy: 0.6087 - val_loss: 0.9601\n",
            "Epoch 221/250\n",
            "\u001b[1m29/29\u001b[0m \u001b[32m━━━━━━━━━━━━━━━━━━━━\u001b[0m\u001b[37m\u001b[0m \u001b[1m20s\u001b[0m 675ms/step - accuracy: 0.6762 - loss: 0.7727 - val_accuracy: 0.5886 - val_loss: 1.0553\n",
            "Epoch 222/250\n",
            "\u001b[1m29/29\u001b[0m \u001b[32m━━━━━━━━━━━━━━━━━━━━\u001b[0m\u001b[37m\u001b[0m \u001b[1m20s\u001b[0m 665ms/step - accuracy: 0.6724 - loss: 0.7687 - val_accuracy: 0.7023 - val_loss: 0.8547\n",
            "Epoch 223/250\n",
            "\u001b[1m29/29\u001b[0m \u001b[32m━━━━━━━━━━━━━━━━━━━━\u001b[0m\u001b[37m\u001b[0m \u001b[1m19s\u001b[0m 659ms/step - accuracy: 0.6791 - loss: 0.7595 - val_accuracy: 0.6321 - val_loss: 1.0460\n",
            "Epoch 224/250\n",
            "\u001b[1m29/29\u001b[0m \u001b[32m━━━━━━━━━━━━━━━━━━━━\u001b[0m\u001b[37m\u001b[0m \u001b[1m20s\u001b[0m 658ms/step - accuracy: 0.6644 - loss: 0.7614 - val_accuracy: 0.5786 - val_loss: 0.9993\n",
            "Epoch 225/250\n",
            "\u001b[1m29/29\u001b[0m \u001b[32m━━━━━━━━━━━━━━━━━━━━\u001b[0m\u001b[37m\u001b[0m \u001b[1m19s\u001b[0m 666ms/step - accuracy: 0.6694 - loss: 0.7886 - val_accuracy: 0.5452 - val_loss: 1.0175\n",
            "Epoch 226/250\n",
            "\u001b[1m29/29\u001b[0m \u001b[32m━━━━━━━━━━━━━━━━━━━━\u001b[0m\u001b[37m\u001b[0m \u001b[1m20s\u001b[0m 646ms/step - accuracy: 0.6644 - loss: 0.7607 - val_accuracy: 0.4983 - val_loss: 1.4719\n",
            "Epoch 227/250\n",
            "\u001b[1m29/29\u001b[0m \u001b[32m━━━━━━━━━━━━━━━━━━━━\u001b[0m\u001b[37m\u001b[0m \u001b[1m19s\u001b[0m 652ms/step - accuracy: 0.6813 - loss: 0.7622 - val_accuracy: 0.5953 - val_loss: 0.9556\n",
            "Epoch 228/250\n",
            "\u001b[1m29/29\u001b[0m \u001b[32m━━━━━━━━━━━━━━━━━━━━\u001b[0m\u001b[37m\u001b[0m \u001b[1m20s\u001b[0m 668ms/step - accuracy: 0.6613 - loss: 0.7673 - val_accuracy: 0.5184 - val_loss: 1.3821\n",
            "Epoch 229/250\n",
            "\u001b[1m29/29\u001b[0m \u001b[32m━━━━━━━━━━━━━━━━━━━━\u001b[0m\u001b[37m\u001b[0m \u001b[1m19s\u001b[0m 643ms/step - accuracy: 0.6779 - loss: 0.7273 - val_accuracy: 0.5017 - val_loss: 1.8976\n",
            "Epoch 230/250\n",
            "\u001b[1m29/29\u001b[0m \u001b[32m━━━━━━━━━━━━━━━━━━━━\u001b[0m\u001b[37m\u001b[0m \u001b[1m20s\u001b[0m 691ms/step - accuracy: 0.6651 - loss: 0.7652 - val_accuracy: 0.5953 - val_loss: 1.0418\n",
            "Epoch 231/250\n",
            "\u001b[1m29/29\u001b[0m \u001b[32m━━━━━━━━━━━━━━━━━━━━\u001b[0m\u001b[37m\u001b[0m \u001b[1m19s\u001b[0m 654ms/step - accuracy: 0.6623 - loss: 0.7595 - val_accuracy: 0.6722 - val_loss: 0.8368\n",
            "Epoch 232/250\n",
            "\u001b[1m29/29\u001b[0m \u001b[32m━━━━━━━━━━━━━━━━━━━━\u001b[0m\u001b[37m\u001b[0m \u001b[1m20s\u001b[0m 690ms/step - accuracy: 0.7024 - loss: 0.7188 - val_accuracy: 0.5719 - val_loss: 1.2319\n",
            "Epoch 233/250\n",
            "\u001b[1m29/29\u001b[0m \u001b[32m━━━━━━━━━━━━━━━━━━━━\u001b[0m\u001b[37m\u001b[0m \u001b[1m19s\u001b[0m 681ms/step - accuracy: 0.6755 - loss: 0.7329 - val_accuracy: 0.5084 - val_loss: 1.6865\n",
            "Epoch 234/250\n",
            "\u001b[1m29/29\u001b[0m \u001b[32m━━━━━━━━━━━━━━━━━━━━\u001b[0m\u001b[37m\u001b[0m \u001b[1m20s\u001b[0m 711ms/step - accuracy: 0.7141 - loss: 0.7023 - val_accuracy: 0.5953 - val_loss: 1.2328\n",
            "Epoch 235/250\n",
            "\u001b[1m29/29\u001b[0m \u001b[32m━━━━━━━━━━━━━━━━━━━━\u001b[0m\u001b[37m\u001b[0m \u001b[1m20s\u001b[0m 657ms/step - accuracy: 0.6615 - loss: 0.7400 - val_accuracy: 0.5853 - val_loss: 1.0624\n",
            "Epoch 236/250\n",
            "\u001b[1m29/29\u001b[0m \u001b[32m━━━━━━━━━━━━━━━━━━━━\u001b[0m\u001b[37m\u001b[0m \u001b[1m19s\u001b[0m 671ms/step - accuracy: 0.6811 - loss: 0.7359 - val_accuracy: 0.6020 - val_loss: 0.9410\n",
            "Epoch 237/250\n",
            "\u001b[1m29/29\u001b[0m \u001b[32m━━━━━━━━━━━━━━━━━━━━\u001b[0m\u001b[37m\u001b[0m \u001b[1m19s\u001b[0m 661ms/step - accuracy: 0.6334 - loss: 0.8264 - val_accuracy: 0.6254 - val_loss: 0.9317\n",
            "Epoch 238/250\n",
            "\u001b[1m29/29\u001b[0m \u001b[32m━━━━━━━━━━━━━━━━━━━━\u001b[0m\u001b[37m\u001b[0m \u001b[1m19s\u001b[0m 664ms/step - accuracy: 0.6498 - loss: 0.8051 - val_accuracy: 0.4816 - val_loss: 1.3883\n",
            "Epoch 239/250\n",
            "\u001b[1m29/29\u001b[0m \u001b[32m━━━━━━━━━━━━━━━━━━━━\u001b[0m\u001b[37m\u001b[0m \u001b[1m20s\u001b[0m 690ms/step - accuracy: 0.6499 - loss: 0.7943 - val_accuracy: 0.5786 - val_loss: 1.0600\n",
            "Epoch 240/250\n",
            "\u001b[1m29/29\u001b[0m \u001b[32m━━━━━━━━━━━━━━━━━━━━\u001b[0m\u001b[37m\u001b[0m \u001b[1m19s\u001b[0m 645ms/step - accuracy: 0.6625 - loss: 0.7661 - val_accuracy: 0.6455 - val_loss: 0.9156\n",
            "Epoch 241/250\n",
            "\u001b[1m29/29\u001b[0m \u001b[32m━━━━━━━━━━━━━━━━━━━━\u001b[0m\u001b[37m\u001b[0m \u001b[1m20s\u001b[0m 690ms/step - accuracy: 0.6697 - loss: 0.7709 - val_accuracy: 0.4013 - val_loss: 1.9658\n",
            "Epoch 242/250\n",
            "\u001b[1m29/29\u001b[0m \u001b[32m━━━━━━━━━━━━━━━━━━━━\u001b[0m\u001b[37m\u001b[0m \u001b[1m19s\u001b[0m 647ms/step - accuracy: 0.6693 - loss: 0.7570 - val_accuracy: 0.4548 - val_loss: 1.8730\n",
            "Epoch 243/250\n",
            "\u001b[1m29/29\u001b[0m \u001b[32m━━━━━━━━━━━━━━━━━━━━\u001b[0m\u001b[37m\u001b[0m \u001b[1m20s\u001b[0m 675ms/step - accuracy: 0.6209 - loss: 0.8660 - val_accuracy: 0.4749 - val_loss: 1.2061\n",
            "Epoch 244/250\n",
            "\u001b[1m29/29\u001b[0m \u001b[32m━━━━━━━━━━━━━━━━━━━━\u001b[0m\u001b[37m\u001b[0m \u001b[1m20s\u001b[0m 659ms/step - accuracy: 0.6455 - loss: 0.8351 - val_accuracy: 0.4582 - val_loss: 2.6329\n",
            "Epoch 245/250\n",
            "\u001b[1m29/29\u001b[0m \u001b[32m━━━━━━━━━━━━━━━━━━━━\u001b[0m\u001b[37m\u001b[0m \u001b[1m19s\u001b[0m 668ms/step - accuracy: 0.6663 - loss: 0.7699 - val_accuracy: 0.6421 - val_loss: 0.9307\n",
            "Epoch 246/250\n",
            "\u001b[1m29/29\u001b[0m \u001b[32m━━━━━━━━━━━━━━━━━━━━\u001b[0m\u001b[37m\u001b[0m \u001b[1m20s\u001b[0m 678ms/step - accuracy: 0.6612 - loss: 0.7725 - val_accuracy: 0.5552 - val_loss: 1.4271\n",
            "Epoch 247/250\n",
            "\u001b[1m29/29\u001b[0m \u001b[32m━━━━━━━━━━━━━━━━━━━━\u001b[0m\u001b[37m\u001b[0m \u001b[1m19s\u001b[0m 686ms/step - accuracy: 0.6787 - loss: 0.7314 - val_accuracy: 0.7157 - val_loss: 0.7668\n",
            "Epoch 248/250\n",
            "\u001b[1m29/29\u001b[0m \u001b[32m━━━━━━━━━━━━━━━━━━━━\u001b[0m\u001b[37m\u001b[0m \u001b[1m20s\u001b[0m 674ms/step - accuracy: 0.6880 - loss: 0.7572 - val_accuracy: 0.6990 - val_loss: 0.8125\n",
            "Epoch 249/250\n",
            "\u001b[1m29/29\u001b[0m \u001b[32m━━━━━━━━━━━━━━━━━━━━\u001b[0m\u001b[37m\u001b[0m \u001b[1m19s\u001b[0m 654ms/step - accuracy: 0.6977 - loss: 0.7376 - val_accuracy: 0.6756 - val_loss: 0.8415\n",
            "Epoch 250/250\n",
            "\u001b[1m29/29\u001b[0m \u001b[32m━━━━━━━━━━━━━━━━━━━━\u001b[0m\u001b[37m\u001b[0m \u001b[1m22s\u001b[0m 690ms/step - accuracy: 0.6811 - loss: 0.7363 - val_accuracy: 0.6522 - val_loss: 0.9197\n",
            "\n",
            "Общее время обучения: 1 ч. 46 мин. 56.15 сек.\n"
          ]
        }
      ]
    }
  ],
  "metadata": {
    "accelerator": "GPU",
    "colab": {
      "gpuType": "T4",
      "provenance": []
    },
    "kaggle": {
      "accelerator": "none",
      "dataSources": [
        {
          "datasetId": 2774887,
          "sourceId": 4793070,
          "sourceType": "datasetVersion"
        }
      ],
      "dockerImageVersionId": 30527,
      "isGpuEnabled": false,
      "isInternetEnabled": false,
      "language": "python",
      "sourceType": "notebook"
    },
    "kernelspec": {
      "display_name": "Python 3",
      "name": "python3"
    },
    "language_info": {
      "codemirror_mode": {
        "name": "ipython",
        "version": 3
      },
      "file_extension": ".py",
      "mimetype": "text/x-python",
      "name": "python",
      "nbconvert_exporter": "python",
      "pygments_lexer": "ipython3",
      "version": "3.10.12"
    },
    "papermill": {
      "default_parameters": {},
      "duration": 19804.44465,
      "end_time": "2023-12-05T17:31:16.247116",
      "environment_variables": {},
      "exception": null,
      "input_path": "__notebook__.ipynb",
      "output_path": "__notebook__.ipynb",
      "parameters": {},
      "start_time": "2023-12-05T12:01:11.802466",
      "version": "2.4.0"
    }
  },
  "nbformat": 4,
  "nbformat_minor": 5
}